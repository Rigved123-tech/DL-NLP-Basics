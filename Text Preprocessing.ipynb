{
 "cells": [
  {
   "cell_type": "code",
   "execution_count": 1,
   "id": "80a539b6",
   "metadata": {
    "_cell_guid": "b1076dfc-b9ad-4769-8c92-a6c4dae69d19",
    "_uuid": "8f2839f25d086af736a60e9eeb907d3b93b6e0e5",
    "execution": {
     "iopub.execute_input": "2023-01-23T17:01:51.391944Z",
     "iopub.status.busy": "2023-01-23T17:01:51.391592Z",
     "iopub.status.idle": "2023-01-23T17:01:51.408374Z",
     "shell.execute_reply": "2023-01-23T17:01:51.407321Z"
    },
    "papermill": {
     "duration": 0.070678,
     "end_time": "2023-01-23T17:01:51.410503",
     "exception": false,
     "start_time": "2023-01-23T17:01:51.339825",
     "status": "completed"
    },
    "tags": []
   },
   "outputs": [
    {
     "name": "stdout",
     "output_type": "stream",
     "text": [
      "/kaggle/input/imdb-dataset-of-50k-movie-reviews/IMDB Dataset.csv\n"
     ]
    }
   ],
   "source": [
    "import numpy as np \n",
    "import pandas as pd\n",
    "import os\n",
    "for dirname, _, filenames in os.walk('/kaggle/input'):\n",
    "    for filename in filenames:\n",
    "        print(os.path.join(dirname, filename))"
   ]
  },
  {
   "cell_type": "code",
   "execution_count": 2,
   "id": "ae31259d",
   "metadata": {
    "execution": {
     "iopub.execute_input": "2023-01-23T17:01:51.512872Z",
     "iopub.status.busy": "2023-01-23T17:01:51.512256Z",
     "iopub.status.idle": "2023-01-23T17:01:53.258151Z",
     "shell.execute_reply": "2023-01-23T17:01:53.257489Z"
    },
    "papermill": {
     "duration": 1.797874,
     "end_time": "2023-01-23T17:01:53.260336",
     "exception": false,
     "start_time": "2023-01-23T17:01:51.462462",
     "status": "completed"
    },
    "tags": []
   },
   "outputs": [],
   "source": [
    "df = pd.read_csv(\"/kaggle/input/imdb-dataset-of-50k-movie-reviews/IMDB Dataset.csv\")"
   ]
  },
  {
   "cell_type": "code",
   "execution_count": 3,
   "id": "57e8f4dd",
   "metadata": {
    "execution": {
     "iopub.execute_input": "2023-01-23T17:01:53.357076Z",
     "iopub.status.busy": "2023-01-23T17:01:53.356574Z",
     "iopub.status.idle": "2023-01-23T17:01:53.363892Z",
     "shell.execute_reply": "2023-01-23T17:01:53.363126Z"
    },
    "papermill": {
     "duration": 0.058325,
     "end_time": "2023-01-23T17:01:53.365994",
     "exception": false,
     "start_time": "2023-01-23T17:01:53.307669",
     "status": "completed"
    },
    "tags": []
   },
   "outputs": [
    {
     "data": {
      "text/plain": [
       "(50000, 2)"
      ]
     },
     "execution_count": 3,
     "metadata": {},
     "output_type": "execute_result"
    }
   ],
   "source": [
    "df.shape"
   ]
  },
  {
   "cell_type": "code",
   "execution_count": 4,
   "id": "4b346637",
   "metadata": {
    "execution": {
     "iopub.execute_input": "2023-01-23T17:01:53.463407Z",
     "iopub.status.busy": "2023-01-23T17:01:53.463078Z",
     "iopub.status.idle": "2023-01-23T17:01:53.478093Z",
     "shell.execute_reply": "2023-01-23T17:01:53.477231Z"
    },
    "papermill": {
     "duration": 0.066223,
     "end_time": "2023-01-23T17:01:53.480181",
     "exception": false,
     "start_time": "2023-01-23T17:01:53.413958",
     "status": "completed"
    },
    "tags": []
   },
   "outputs": [
    {
     "data": {
      "text/html": [
       "<div>\n",
       "<style scoped>\n",
       "    .dataframe tbody tr th:only-of-type {\n",
       "        vertical-align: middle;\n",
       "    }\n",
       "\n",
       "    .dataframe tbody tr th {\n",
       "        vertical-align: top;\n",
       "    }\n",
       "\n",
       "    .dataframe thead th {\n",
       "        text-align: right;\n",
       "    }\n",
       "</style>\n",
       "<table border=\"1\" class=\"dataframe\">\n",
       "  <thead>\n",
       "    <tr style=\"text-align: right;\">\n",
       "      <th></th>\n",
       "      <th>review</th>\n",
       "      <th>sentiment</th>\n",
       "    </tr>\n",
       "  </thead>\n",
       "  <tbody>\n",
       "    <tr>\n",
       "      <th>0</th>\n",
       "      <td>One of the other reviewers has mentioned that ...</td>\n",
       "      <td>positive</td>\n",
       "    </tr>\n",
       "    <tr>\n",
       "      <th>1</th>\n",
       "      <td>A wonderful little production. &lt;br /&gt;&lt;br /&gt;The...</td>\n",
       "      <td>positive</td>\n",
       "    </tr>\n",
       "    <tr>\n",
       "      <th>2</th>\n",
       "      <td>I thought this was a wonderful way to spend ti...</td>\n",
       "      <td>positive</td>\n",
       "    </tr>\n",
       "    <tr>\n",
       "      <th>3</th>\n",
       "      <td>Basically there's a family where a little boy ...</td>\n",
       "      <td>negative</td>\n",
       "    </tr>\n",
       "    <tr>\n",
       "      <th>4</th>\n",
       "      <td>Petter Mattei's \"Love in the Time of Money\" is...</td>\n",
       "      <td>positive</td>\n",
       "    </tr>\n",
       "  </tbody>\n",
       "</table>\n",
       "</div>"
      ],
      "text/plain": [
       "                                              review sentiment\n",
       "0  One of the other reviewers has mentioned that ...  positive\n",
       "1  A wonderful little production. <br /><br />The...  positive\n",
       "2  I thought this was a wonderful way to spend ti...  positive\n",
       "3  Basically there's a family where a little boy ...  negative\n",
       "4  Petter Mattei's \"Love in the Time of Money\" is...  positive"
      ]
     },
     "execution_count": 4,
     "metadata": {},
     "output_type": "execute_result"
    }
   ],
   "source": [
    "df.head()"
   ]
  },
  {
   "cell_type": "code",
   "execution_count": 5,
   "id": "8af456f9",
   "metadata": {
    "execution": {
     "iopub.execute_input": "2023-01-23T17:01:53.578815Z",
     "iopub.status.busy": "2023-01-23T17:01:53.578406Z",
     "iopub.status.idle": "2023-01-23T17:01:53.587017Z",
     "shell.execute_reply": "2023-01-23T17:01:53.586118Z"
    },
    "papermill": {
     "duration": 0.060449,
     "end_time": "2023-01-23T17:01:53.589014",
     "exception": false,
     "start_time": "2023-01-23T17:01:53.528565",
     "status": "completed"
    },
    "tags": []
   },
   "outputs": [
    {
     "data": {
      "text/plain": [
       "'a wonderful little production. <br /><br />the filming technique is very unassuming- very old-time-bbc fashion and gives a comforting, and sometimes discomforting, sense of realism to the entire piece. <br /><br />the actors are extremely well chosen- michael sheen not only \"has got all the polari\" but he has all the voices down pat too! you can truly see the seamless editing guided by the references to williams\\' diary entries, not only is it well worth the watching but it is a terrificly written and performed piece. a masterful production about one of the great master\\'s of comedy and his life. <br /><br />the realism really comes home with the little things: the fantasy of the guard which, rather than use the traditional \\'dream\\' techniques remains solid then disappears. it plays on our knowledge and our senses, particularly with the scenes concerning orton and halliwell and the sets (particularly of their flat with halliwell\\'s murals decorating every surface) are terribly well done.'"
      ]
     },
     "execution_count": 5,
     "metadata": {},
     "output_type": "execute_result"
    }
   ],
   "source": [
    "df[\"review\"][1].lower()"
   ]
  },
  {
   "cell_type": "code",
   "execution_count": 6,
   "id": "42269602",
   "metadata": {
    "execution": {
     "iopub.execute_input": "2023-01-23T17:01:53.690403Z",
     "iopub.status.busy": "2023-01-23T17:01:53.689557Z",
     "iopub.status.idle": "2023-01-23T17:01:53.862736Z",
     "shell.execute_reply": "2023-01-23T17:01:53.861566Z"
    },
    "papermill": {
     "duration": 0.22692,
     "end_time": "2023-01-23T17:01:53.865813",
     "exception": false,
     "start_time": "2023-01-23T17:01:53.638893",
     "status": "completed"
    },
    "tags": []
   },
   "outputs": [],
   "source": [
    "df[\"review\"] = df[\"review\"].str.lower() #lowecasing all data"
   ]
  },
  {
   "cell_type": "code",
   "execution_count": 7,
   "id": "48cf239e",
   "metadata": {
    "execution": {
     "iopub.execute_input": "2023-01-23T17:01:53.971179Z",
     "iopub.status.busy": "2023-01-23T17:01:53.970216Z",
     "iopub.status.idle": "2023-01-23T17:01:53.980447Z",
     "shell.execute_reply": "2023-01-23T17:01:53.979487Z"
    },
    "papermill": {
     "duration": 0.063137,
     "end_time": "2023-01-23T17:01:53.982584",
     "exception": false,
     "start_time": "2023-01-23T17:01:53.919447",
     "status": "completed"
    },
    "tags": []
   },
   "outputs": [
    {
     "data": {
      "text/html": [
       "<div>\n",
       "<style scoped>\n",
       "    .dataframe tbody tr th:only-of-type {\n",
       "        vertical-align: middle;\n",
       "    }\n",
       "\n",
       "    .dataframe tbody tr th {\n",
       "        vertical-align: top;\n",
       "    }\n",
       "\n",
       "    .dataframe thead th {\n",
       "        text-align: right;\n",
       "    }\n",
       "</style>\n",
       "<table border=\"1\" class=\"dataframe\">\n",
       "  <thead>\n",
       "    <tr style=\"text-align: right;\">\n",
       "      <th></th>\n",
       "      <th>review</th>\n",
       "      <th>sentiment</th>\n",
       "    </tr>\n",
       "  </thead>\n",
       "  <tbody>\n",
       "    <tr>\n",
       "      <th>0</th>\n",
       "      <td>one of the other reviewers has mentioned that ...</td>\n",
       "      <td>positive</td>\n",
       "    </tr>\n",
       "    <tr>\n",
       "      <th>1</th>\n",
       "      <td>a wonderful little production. &lt;br /&gt;&lt;br /&gt;the...</td>\n",
       "      <td>positive</td>\n",
       "    </tr>\n",
       "    <tr>\n",
       "      <th>2</th>\n",
       "      <td>i thought this was a wonderful way to spend ti...</td>\n",
       "      <td>positive</td>\n",
       "    </tr>\n",
       "    <tr>\n",
       "      <th>3</th>\n",
       "      <td>basically there's a family where a little boy ...</td>\n",
       "      <td>negative</td>\n",
       "    </tr>\n",
       "    <tr>\n",
       "      <th>4</th>\n",
       "      <td>petter mattei's \"love in the time of money\" is...</td>\n",
       "      <td>positive</td>\n",
       "    </tr>\n",
       "  </tbody>\n",
       "</table>\n",
       "</div>"
      ],
      "text/plain": [
       "                                              review sentiment\n",
       "0  one of the other reviewers has mentioned that ...  positive\n",
       "1  a wonderful little production. <br /><br />the...  positive\n",
       "2  i thought this was a wonderful way to spend ti...  positive\n",
       "3  basically there's a family where a little boy ...  negative\n",
       "4  petter mattei's \"love in the time of money\" is...  positive"
      ]
     },
     "execution_count": 7,
     "metadata": {},
     "output_type": "execute_result"
    }
   ],
   "source": [
    "df.head()"
   ]
  },
  {
   "cell_type": "code",
   "execution_count": 8,
   "id": "b034c1a2",
   "metadata": {
    "execution": {
     "iopub.execute_input": "2023-01-23T17:01:54.090500Z",
     "iopub.status.busy": "2023-01-23T17:01:54.089578Z",
     "iopub.status.idle": "2023-01-23T17:01:54.094499Z",
     "shell.execute_reply": "2023-01-23T17:01:54.093943Z"
    },
    "papermill": {
     "duration": 0.058752,
     "end_time": "2023-01-23T17:01:54.096409",
     "exception": false,
     "start_time": "2023-01-23T17:01:54.037657",
     "status": "completed"
    },
    "tags": []
   },
   "outputs": [],
   "source": [
    "import re\n",
    "def remove_html_tags(text):\n",
    "    pattern = re.compile('<.*?>')\n",
    "    return pattern.sub(r'', text)"
   ]
  },
  {
   "cell_type": "code",
   "execution_count": 9,
   "id": "0531c0ed",
   "metadata": {
    "execution": {
     "iopub.execute_input": "2023-01-23T17:01:54.212731Z",
     "iopub.status.busy": "2023-01-23T17:01:54.212059Z",
     "iopub.status.idle": "2023-01-23T17:01:54.216659Z",
     "shell.execute_reply": "2023-01-23T17:01:54.215931Z"
    },
    "papermill": {
     "duration": 0.06307,
     "end_time": "2023-01-23T17:01:54.218838",
     "exception": false,
     "start_time": "2023-01-23T17:01:54.155768",
     "status": "completed"
    },
    "tags": []
   },
   "outputs": [],
   "source": [
    "text = \"<html><body><p> Movie 1</p><p> Actor - Aamir Khan</p><p> Click here to <a href='http://google.com'>download</a></p></body></html>\""
   ]
  },
  {
   "cell_type": "code",
   "execution_count": 10,
   "id": "8ac2b21f",
   "metadata": {
    "execution": {
     "iopub.execute_input": "2023-01-23T17:01:54.325019Z",
     "iopub.status.busy": "2023-01-23T17:01:54.324469Z",
     "iopub.status.idle": "2023-01-23T17:01:54.330693Z",
     "shell.execute_reply": "2023-01-23T17:01:54.329845Z"
    },
    "papermill": {
     "duration": 0.061392,
     "end_time": "2023-01-23T17:01:54.332828",
     "exception": false,
     "start_time": "2023-01-23T17:01:54.271436",
     "status": "completed"
    },
    "tags": []
   },
   "outputs": [
    {
     "data": {
      "text/plain": [
       "' Movie 1 Actor - Aamir Khan Click here to download'"
      ]
     },
     "execution_count": 10,
     "metadata": {},
     "output_type": "execute_result"
    }
   ],
   "source": [
    "remove_html_tags(text)"
   ]
  },
  {
   "cell_type": "code",
   "execution_count": 11,
   "id": "9fdcd546",
   "metadata": {
    "execution": {
     "iopub.execute_input": "2023-01-23T17:01:54.440058Z",
     "iopub.status.busy": "2023-01-23T17:01:54.439156Z",
     "iopub.status.idle": "2023-01-23T17:01:54.629186Z",
     "shell.execute_reply": "2023-01-23T17:01:54.628193Z"
    },
    "papermill": {
     "duration": 0.246577,
     "end_time": "2023-01-23T17:01:54.632229",
     "exception": false,
     "start_time": "2023-01-23T17:01:54.385652",
     "status": "completed"
    },
    "tags": []
   },
   "outputs": [],
   "source": [
    "df[\"review\"] = df[\"review\"].apply(remove_html_tags)  #removing html tags"
   ]
  },
  {
   "cell_type": "code",
   "execution_count": 12,
   "id": "3e63806f",
   "metadata": {
    "execution": {
     "iopub.execute_input": "2023-01-23T17:01:54.739154Z",
     "iopub.status.busy": "2023-01-23T17:01:54.738859Z",
     "iopub.status.idle": "2023-01-23T17:01:54.745987Z",
     "shell.execute_reply": "2023-01-23T17:01:54.745073Z"
    },
    "papermill": {
     "duration": 0.063037,
     "end_time": "2023-01-23T17:01:54.748305",
     "exception": false,
     "start_time": "2023-01-23T17:01:54.685268",
     "status": "completed"
    },
    "tags": []
   },
   "outputs": [
    {
     "data": {
      "text/plain": [
       "'a wonderful little production. the filming technique is very unassuming- very old-time-bbc fashion and gives a comforting, and sometimes discomforting, sense of realism to the entire piece. the actors are extremely well chosen- michael sheen not only \"has got all the polari\" but he has all the voices down pat too! you can truly see the seamless editing guided by the references to williams\\' diary entries, not only is it well worth the watching but it is a terrificly written and performed piece. a masterful production about one of the great master\\'s of comedy and his life. the realism really comes home with the little things: the fantasy of the guard which, rather than use the traditional \\'dream\\' techniques remains solid then disappears. it plays on our knowledge and our senses, particularly with the scenes concerning orton and halliwell and the sets (particularly of their flat with halliwell\\'s murals decorating every surface) are terribly well done.'"
      ]
     },
     "execution_count": 12,
     "metadata": {},
     "output_type": "execute_result"
    }
   ],
   "source": [
    "df[\"review\"][1]"
   ]
  },
  {
   "cell_type": "code",
   "execution_count": 13,
   "id": "bb247dfc",
   "metadata": {
    "execution": {
     "iopub.execute_input": "2023-01-23T17:01:54.855519Z",
     "iopub.status.busy": "2023-01-23T17:01:54.855240Z",
     "iopub.status.idle": "2023-01-23T17:01:54.859662Z",
     "shell.execute_reply": "2023-01-23T17:01:54.858734Z"
    },
    "papermill": {
     "duration": 0.061452,
     "end_time": "2023-01-23T17:01:54.861767",
     "exception": false,
     "start_time": "2023-01-23T17:01:54.800315",
     "status": "completed"
    },
    "tags": []
   },
   "outputs": [],
   "source": [
    "def remove_url(text):\n",
    "    pattern = re.compile(r'https?://\\S+|www\\.\\S+')\n",
    "    return pattern.sub(r'', text)"
   ]
  },
  {
   "cell_type": "code",
   "execution_count": 14,
   "id": "aa5560da",
   "metadata": {
    "execution": {
     "iopub.execute_input": "2023-01-23T17:01:54.967374Z",
     "iopub.status.busy": "2023-01-23T17:01:54.966535Z",
     "iopub.status.idle": "2023-01-23T17:01:54.971362Z",
     "shell.execute_reply": "2023-01-23T17:01:54.970186Z"
    },
    "papermill": {
     "duration": 0.059022,
     "end_time": "2023-01-23T17:01:54.973290",
     "exception": false,
     "start_time": "2023-01-23T17:01:54.914268",
     "status": "completed"
    },
    "tags": []
   },
   "outputs": [],
   "source": [
    "text1 = 'Check out my notebook https://www.kaggle.com/campusx/notebook8223fc1abb'\n",
    "text2 = 'Check out my notebook http://www.kaggle.com/campusx/notebook8223fc1abb'\n",
    "text3 = 'Google search here www.google.com'"
   ]
  },
  {
   "cell_type": "code",
   "execution_count": 15,
   "id": "d7497b8e",
   "metadata": {
    "execution": {
     "iopub.execute_input": "2023-01-23T17:01:55.075314Z",
     "iopub.status.busy": "2023-01-23T17:01:55.074586Z",
     "iopub.status.idle": "2023-01-23T17:01:55.081446Z",
     "shell.execute_reply": "2023-01-23T17:01:55.080551Z"
    },
    "papermill": {
     "duration": 0.060285,
     "end_time": "2023-01-23T17:01:55.083592",
     "exception": false,
     "start_time": "2023-01-23T17:01:55.023307",
     "status": "completed"
    },
    "tags": []
   },
   "outputs": [
    {
     "data": {
      "text/plain": [
       "'Google search here '"
      ]
     },
     "execution_count": 15,
     "metadata": {},
     "output_type": "execute_result"
    }
   ],
   "source": [
    "remove_url(text3)"
   ]
  },
  {
   "cell_type": "code",
   "execution_count": 16,
   "id": "63382141",
   "metadata": {
    "execution": {
     "iopub.execute_input": "2023-01-23T17:01:55.194359Z",
     "iopub.status.busy": "2023-01-23T17:01:55.193423Z",
     "iopub.status.idle": "2023-01-23T17:01:55.199773Z",
     "shell.execute_reply": "2023-01-23T17:01:55.198943Z"
    },
    "papermill": {
     "duration": 0.065719,
     "end_time": "2023-01-23T17:01:55.201703",
     "exception": false,
     "start_time": "2023-01-23T17:01:55.135984",
     "status": "completed"
    },
    "tags": []
   },
   "outputs": [
    {
     "data": {
      "text/plain": [
       "'!\"#$%&\\'()*+,-./:;<=>?@[\\\\]^_`{|}~'"
      ]
     },
     "execution_count": 16,
     "metadata": {},
     "output_type": "execute_result"
    }
   ],
   "source": [
    "import string, time\n",
    "string.punctuation"
   ]
  },
  {
   "cell_type": "code",
   "execution_count": 17,
   "id": "36cdf90c",
   "metadata": {
    "execution": {
     "iopub.execute_input": "2023-01-23T17:01:55.306470Z",
     "iopub.status.busy": "2023-01-23T17:01:55.305956Z",
     "iopub.status.idle": "2023-01-23T17:01:55.310221Z",
     "shell.execute_reply": "2023-01-23T17:01:55.309498Z"
    },
    "papermill": {
     "duration": 0.058819,
     "end_time": "2023-01-23T17:01:55.312155",
     "exception": false,
     "start_time": "2023-01-23T17:01:55.253336",
     "status": "completed"
    },
    "tags": []
   },
   "outputs": [],
   "source": [
    "exclude = string.punctuation"
   ]
  },
  {
   "cell_type": "code",
   "execution_count": 18,
   "id": "4771632e",
   "metadata": {
    "execution": {
     "iopub.execute_input": "2023-01-23T17:01:55.420726Z",
     "iopub.status.busy": "2023-01-23T17:01:55.419906Z",
     "iopub.status.idle": "2023-01-23T17:01:55.425201Z",
     "shell.execute_reply": "2023-01-23T17:01:55.424385Z"
    },
    "papermill": {
     "duration": 0.060997,
     "end_time": "2023-01-23T17:01:55.427308",
     "exception": false,
     "start_time": "2023-01-23T17:01:55.366311",
     "status": "completed"
    },
    "tags": []
   },
   "outputs": [],
   "source": [
    "def remove_pun(text):\n",
    "    for char in exclude:\n",
    "        text = text.replace(char,\"\")\n",
    "    return text"
   ]
  },
  {
   "cell_type": "code",
   "execution_count": 19,
   "id": "28a534f9",
   "metadata": {
    "execution": {
     "iopub.execute_input": "2023-01-23T17:01:55.531953Z",
     "iopub.status.busy": "2023-01-23T17:01:55.531358Z",
     "iopub.status.idle": "2023-01-23T17:01:55.536212Z",
     "shell.execute_reply": "2023-01-23T17:01:55.535286Z"
    },
    "papermill": {
     "duration": 0.059905,
     "end_time": "2023-01-23T17:01:55.538634",
     "exception": false,
     "start_time": "2023-01-23T17:01:55.478729",
     "status": "completed"
    },
    "tags": []
   },
   "outputs": [],
   "source": [
    "text = 'string. With. Punctuation?'"
   ]
  },
  {
   "cell_type": "code",
   "execution_count": 20,
   "id": "debd9aff",
   "metadata": {
    "execution": {
     "iopub.execute_input": "2023-01-23T17:01:55.646738Z",
     "iopub.status.busy": "2023-01-23T17:01:55.645868Z",
     "iopub.status.idle": "2023-01-23T17:01:55.651824Z",
     "shell.execute_reply": "2023-01-23T17:01:55.651139Z"
    },
    "papermill": {
     "duration": 0.060683,
     "end_time": "2023-01-23T17:01:55.653805",
     "exception": false,
     "start_time": "2023-01-23T17:01:55.593122",
     "status": "completed"
    },
    "tags": []
   },
   "outputs": [
    {
     "data": {
      "text/plain": [
       "'string With Punctuation'"
      ]
     },
     "execution_count": 20,
     "metadata": {},
     "output_type": "execute_result"
    }
   ],
   "source": [
    "remove_pun(text)"
   ]
  },
  {
   "cell_type": "code",
   "execution_count": 21,
   "id": "34f63222",
   "metadata": {
    "execution": {
     "iopub.execute_input": "2023-01-23T17:01:55.761579Z",
     "iopub.status.busy": "2023-01-23T17:01:55.760874Z",
     "iopub.status.idle": "2023-01-23T17:01:55.860949Z",
     "shell.execute_reply": "2023-01-23T17:01:55.860146Z"
    },
    "papermill": {
     "duration": 0.153986,
     "end_time": "2023-01-23T17:01:55.862906",
     "exception": false,
     "start_time": "2023-01-23T17:01:55.708920",
     "status": "completed"
    },
    "tags": []
   },
   "outputs": [
    {
     "name": "stdout",
     "output_type": "stream",
     "text": [
      "0        one of the other reviewers has mentioned that ...\n",
      "1        a wonderful little production. the filming tec...\n",
      "2        i thought this was a wonderful way to spend ti...\n",
      "3        basically there's a family where a little boy ...\n",
      "4        petter mattei's \"love in the time of money\" is...\n",
      "                               ...                        \n",
      "49995    i thought this movie did a down right good job...\n",
      "49996    bad plot, bad dialogue, bad acting, idiotic di...\n",
      "49997    i am a catholic taught in parochial elementary...\n",
      "49998    i'm going to have to disagree with the previou...\n",
      "49999    no one expects the star trek movies to be high...\n",
      "Name: review, Length: 50000, dtype: object\n",
      "0.09439635276794434\n"
     ]
    }
   ],
   "source": [
    "start = time.time()\n",
    "print(remove_pun(df[\"review\"]))\n",
    "time1 = time.time() - start\n",
    "print(time1)   # this is slow process"
   ]
  },
  {
   "cell_type": "code",
   "execution_count": 22,
   "id": "4f3836f7",
   "metadata": {
    "execution": {
     "iopub.execute_input": "2023-01-23T17:01:55.972397Z",
     "iopub.status.busy": "2023-01-23T17:01:55.972016Z",
     "iopub.status.idle": "2023-01-23T17:01:55.976538Z",
     "shell.execute_reply": "2023-01-23T17:01:55.975669Z"
    },
    "papermill": {
     "duration": 0.06191,
     "end_time": "2023-01-23T17:01:55.978964",
     "exception": false,
     "start_time": "2023-01-23T17:01:55.917054",
     "status": "completed"
    },
    "tags": []
   },
   "outputs": [],
   "source": [
    "def remove_punc1(text):\n",
    "    return text.translate(str.maketrans('', '', exclude))   #this technique is faster"
   ]
  },
  {
   "cell_type": "code",
   "execution_count": 23,
   "id": "46c9eade",
   "metadata": {
    "execution": {
     "iopub.execute_input": "2023-01-23T17:01:56.091707Z",
     "iopub.status.busy": "2023-01-23T17:01:56.091398Z",
     "iopub.status.idle": "2023-01-23T17:01:56.096765Z",
     "shell.execute_reply": "2023-01-23T17:01:56.095869Z"
    },
    "papermill": {
     "duration": 0.062843,
     "end_time": "2023-01-23T17:01:56.099178",
     "exception": false,
     "start_time": "2023-01-23T17:01:56.036335",
     "status": "completed"
    },
    "tags": []
   },
   "outputs": [
    {
     "name": "stdout",
     "output_type": "stream",
     "text": [
      "5.340576171875\n"
     ]
    }
   ],
   "source": [
    "start = time.time()\n",
    "remove_punc1(text)\n",
    "time2 = time.time() - start\n",
    "print(time2*50000)"
   ]
  },
  {
   "cell_type": "code",
   "execution_count": 24,
   "id": "1a7e6dc9",
   "metadata": {
    "execution": {
     "iopub.execute_input": "2023-01-23T17:01:56.208900Z",
     "iopub.status.busy": "2023-01-23T17:01:56.207970Z",
     "iopub.status.idle": "2023-01-23T17:01:56.212176Z",
     "shell.execute_reply": "2023-01-23T17:01:56.211303Z"
    },
    "papermill": {
     "duration": 0.062033,
     "end_time": "2023-01-23T17:01:56.214324",
     "exception": false,
     "start_time": "2023-01-23T17:01:56.152291",
     "status": "completed"
    },
    "tags": []
   },
   "outputs": [],
   "source": [
    "#spelling correction"
   ]
  },
  {
   "cell_type": "code",
   "execution_count": 25,
   "id": "e14ed51a",
   "metadata": {
    "execution": {
     "iopub.execute_input": "2023-01-23T17:01:56.325756Z",
     "iopub.status.busy": "2023-01-23T17:01:56.325480Z",
     "iopub.status.idle": "2023-01-23T17:01:57.943028Z",
     "shell.execute_reply": "2023-01-23T17:01:57.942164Z"
    },
    "papermill": {
     "duration": 1.67585,
     "end_time": "2023-01-23T17:01:57.945611",
     "exception": false,
     "start_time": "2023-01-23T17:01:56.269761",
     "status": "completed"
    },
    "tags": []
   },
   "outputs": [],
   "source": [
    "from textblob import TextBlob"
   ]
  },
  {
   "cell_type": "code",
   "execution_count": 26,
   "id": "6a2fcf1b",
   "metadata": {
    "execution": {
     "iopub.execute_input": "2023-01-23T17:01:58.069976Z",
     "iopub.status.busy": "2023-01-23T17:01:58.069394Z",
     "iopub.status.idle": "2023-01-23T17:01:58.143817Z",
     "shell.execute_reply": "2023-01-23T17:01:58.142801Z"
    },
    "papermill": {
     "duration": 0.139713,
     "end_time": "2023-01-23T17:01:58.145946",
     "exception": false,
     "start_time": "2023-01-23T17:01:58.006233",
     "status": "completed"
    },
    "tags": []
   },
   "outputs": [
    {
     "name": "stdout",
     "output_type": "stream",
     "text": [
      "certain conditions during several generations are modified in the same manner.\n"
     ]
    }
   ],
   "source": [
    "incorrect_text = 'ceertain conditionas duriing seveal ggenerations aree moodified in the saame maner.'\n",
    "\n",
    "textblb = TextBlob(incorrect_text)\n",
    "\n",
    "a = textblb.correct().string\n",
    "print(a)"
   ]
  },
  {
   "cell_type": "code",
   "execution_count": 27,
   "id": "0efd9cf2",
   "metadata": {
    "execution": {
     "iopub.execute_input": "2023-01-23T17:01:58.253982Z",
     "iopub.status.busy": "2023-01-23T17:01:58.253689Z",
     "iopub.status.idle": "2023-01-23T17:01:58.258104Z",
     "shell.execute_reply": "2023-01-23T17:01:58.257054Z"
    },
    "papermill": {
     "duration": 0.061565,
     "end_time": "2023-01-23T17:01:58.260418",
     "exception": false,
     "start_time": "2023-01-23T17:01:58.198853",
     "status": "completed"
    },
    "tags": []
   },
   "outputs": [],
   "source": [
    "#removing stopwards  for sentiment analysis a ,an, the these words are not required\n",
    "from nltk.corpus import stopwords"
   ]
  },
  {
   "cell_type": "code",
   "execution_count": 28,
   "id": "53619588",
   "metadata": {
    "execution": {
     "iopub.execute_input": "2023-01-23T17:01:58.366235Z",
     "iopub.status.busy": "2023-01-23T17:01:58.365896Z",
     "iopub.status.idle": "2023-01-23T17:01:58.380255Z",
     "shell.execute_reply": "2023-01-23T17:01:58.379400Z"
    },
    "papermill": {
     "duration": 0.069838,
     "end_time": "2023-01-23T17:01:58.382518",
     "exception": false,
     "start_time": "2023-01-23T17:01:58.312680",
     "status": "completed"
    },
    "tags": []
   },
   "outputs": [
    {
     "data": {
      "text/plain": [
       "['i',\n",
       " 'me',\n",
       " 'my',\n",
       " 'myself',\n",
       " 'we',\n",
       " 'our',\n",
       " 'ours',\n",
       " 'ourselves',\n",
       " 'you',\n",
       " \"you're\",\n",
       " \"you've\",\n",
       " \"you'll\",\n",
       " \"you'd\",\n",
       " 'your',\n",
       " 'yours',\n",
       " 'yourself',\n",
       " 'yourselves',\n",
       " 'he',\n",
       " 'him',\n",
       " 'his',\n",
       " 'himself',\n",
       " 'she',\n",
       " \"she's\",\n",
       " 'her',\n",
       " 'hers',\n",
       " 'herself',\n",
       " 'it',\n",
       " \"it's\",\n",
       " 'its',\n",
       " 'itself',\n",
       " 'they',\n",
       " 'them',\n",
       " 'their',\n",
       " 'theirs',\n",
       " 'themselves',\n",
       " 'what',\n",
       " 'which',\n",
       " 'who',\n",
       " 'whom',\n",
       " 'this',\n",
       " 'that',\n",
       " \"that'll\",\n",
       " 'these',\n",
       " 'those',\n",
       " 'am',\n",
       " 'is',\n",
       " 'are',\n",
       " 'was',\n",
       " 'were',\n",
       " 'be',\n",
       " 'been',\n",
       " 'being',\n",
       " 'have',\n",
       " 'has',\n",
       " 'had',\n",
       " 'having',\n",
       " 'do',\n",
       " 'does',\n",
       " 'did',\n",
       " 'doing',\n",
       " 'a',\n",
       " 'an',\n",
       " 'the',\n",
       " 'and',\n",
       " 'but',\n",
       " 'if',\n",
       " 'or',\n",
       " 'because',\n",
       " 'as',\n",
       " 'until',\n",
       " 'while',\n",
       " 'of',\n",
       " 'at',\n",
       " 'by',\n",
       " 'for',\n",
       " 'with',\n",
       " 'about',\n",
       " 'against',\n",
       " 'between',\n",
       " 'into',\n",
       " 'through',\n",
       " 'during',\n",
       " 'before',\n",
       " 'after',\n",
       " 'above',\n",
       " 'below',\n",
       " 'to',\n",
       " 'from',\n",
       " 'up',\n",
       " 'down',\n",
       " 'in',\n",
       " 'out',\n",
       " 'on',\n",
       " 'off',\n",
       " 'over',\n",
       " 'under',\n",
       " 'again',\n",
       " 'further',\n",
       " 'then',\n",
       " 'once',\n",
       " 'here',\n",
       " 'there',\n",
       " 'when',\n",
       " 'where',\n",
       " 'why',\n",
       " 'how',\n",
       " 'all',\n",
       " 'any',\n",
       " 'both',\n",
       " 'each',\n",
       " 'few',\n",
       " 'more',\n",
       " 'most',\n",
       " 'other',\n",
       " 'some',\n",
       " 'such',\n",
       " 'no',\n",
       " 'nor',\n",
       " 'not',\n",
       " 'only',\n",
       " 'own',\n",
       " 'same',\n",
       " 'so',\n",
       " 'than',\n",
       " 'too',\n",
       " 'very',\n",
       " 's',\n",
       " 't',\n",
       " 'can',\n",
       " 'will',\n",
       " 'just',\n",
       " 'don',\n",
       " \"don't\",\n",
       " 'should',\n",
       " \"should've\",\n",
       " 'now',\n",
       " 'd',\n",
       " 'll',\n",
       " 'm',\n",
       " 'o',\n",
       " 're',\n",
       " 've',\n",
       " 'y',\n",
       " 'ain',\n",
       " 'aren',\n",
       " \"aren't\",\n",
       " 'couldn',\n",
       " \"couldn't\",\n",
       " 'didn',\n",
       " \"didn't\",\n",
       " 'doesn',\n",
       " \"doesn't\",\n",
       " 'hadn',\n",
       " \"hadn't\",\n",
       " 'hasn',\n",
       " \"hasn't\",\n",
       " 'haven',\n",
       " \"haven't\",\n",
       " 'isn',\n",
       " \"isn't\",\n",
       " 'ma',\n",
       " 'mightn',\n",
       " \"mightn't\",\n",
       " 'mustn',\n",
       " \"mustn't\",\n",
       " 'needn',\n",
       " \"needn't\",\n",
       " 'shan',\n",
       " \"shan't\",\n",
       " 'shouldn',\n",
       " \"shouldn't\",\n",
       " 'wasn',\n",
       " \"wasn't\",\n",
       " 'weren',\n",
       " \"weren't\",\n",
       " 'won',\n",
       " \"won't\",\n",
       " 'wouldn',\n",
       " \"wouldn't\"]"
      ]
     },
     "execution_count": 28,
     "metadata": {},
     "output_type": "execute_result"
    }
   ],
   "source": [
    "stopwords.words(\"english\")"
   ]
  },
  {
   "cell_type": "code",
   "execution_count": 29,
   "id": "103de53f",
   "metadata": {
    "execution": {
     "iopub.execute_input": "2023-01-23T17:01:58.494196Z",
     "iopub.status.busy": "2023-01-23T17:01:58.493901Z",
     "iopub.status.idle": "2023-01-23T17:01:58.499472Z",
     "shell.execute_reply": "2023-01-23T17:01:58.498571Z"
    },
    "papermill": {
     "duration": 0.06386,
     "end_time": "2023-01-23T17:01:58.501564",
     "exception": false,
     "start_time": "2023-01-23T17:01:58.437704",
     "status": "completed"
    },
    "tags": []
   },
   "outputs": [],
   "source": [
    "def remove_stopwords(text):\n",
    "    new_text = []\n",
    "    \n",
    "    for word in text.split():\n",
    "        if word in stopwords.words('english'):\n",
    "            new_text.append('')\n",
    "        else:\n",
    "            new_text.append(word)\n",
    "    x = new_text[:]\n",
    "    new_text.clear()\n",
    "    return \" \".join(x)"
   ]
  },
  {
   "cell_type": "code",
   "execution_count": 30,
   "id": "d6dc1638",
   "metadata": {
    "execution": {
     "iopub.execute_input": "2023-01-23T17:01:58.618577Z",
     "iopub.status.busy": "2023-01-23T17:01:58.618318Z",
     "iopub.status.idle": "2023-01-23T17:01:58.629501Z",
     "shell.execute_reply": "2023-01-23T17:01:58.628666Z"
    },
    "papermill": {
     "duration": 0.072209,
     "end_time": "2023-01-23T17:01:58.631556",
     "exception": false,
     "start_time": "2023-01-23T17:01:58.559347",
     "status": "completed"
    },
    "tags": []
   },
   "outputs": [
    {
     "data": {
      "text/plain": [
       "'probably  all-time favorite movie,  story  selflessness, sacrifice  dedication   noble cause,    preachy  boring.   never gets old, despite   seen   15   times'"
      ]
     },
     "execution_count": 30,
     "metadata": {},
     "output_type": "execute_result"
    }
   ],
   "source": [
    "remove_stopwords('probably my all-time favorite movie, a story of selflessness, sacrifice and dedication to a noble cause, but it\\'s not preachy or boring. it just never gets old, despite my having seen it some 15 or more times')"
   ]
  },
  {
   "cell_type": "code",
   "execution_count": 31,
   "id": "f8f41b84",
   "metadata": {
    "execution": {
     "iopub.execute_input": "2023-01-23T17:01:58.746922Z",
     "iopub.status.busy": "2023-01-23T17:01:58.746202Z",
     "iopub.status.idle": "2023-01-23T17:01:58.755759Z",
     "shell.execute_reply": "2023-01-23T17:01:58.755206Z"
    },
    "papermill": {
     "duration": 0.069385,
     "end_time": "2023-01-23T17:01:58.757810",
     "exception": false,
     "start_time": "2023-01-23T17:01:58.688425",
     "status": "completed"
    },
    "tags": []
   },
   "outputs": [
    {
     "data": {
      "text/html": [
       "<div>\n",
       "<style scoped>\n",
       "    .dataframe tbody tr th:only-of-type {\n",
       "        vertical-align: middle;\n",
       "    }\n",
       "\n",
       "    .dataframe tbody tr th {\n",
       "        vertical-align: top;\n",
       "    }\n",
       "\n",
       "    .dataframe thead th {\n",
       "        text-align: right;\n",
       "    }\n",
       "</style>\n",
       "<table border=\"1\" class=\"dataframe\">\n",
       "  <thead>\n",
       "    <tr style=\"text-align: right;\">\n",
       "      <th></th>\n",
       "      <th>review</th>\n",
       "      <th>sentiment</th>\n",
       "    </tr>\n",
       "  </thead>\n",
       "  <tbody>\n",
       "    <tr>\n",
       "      <th>0</th>\n",
       "      <td>one of the other reviewers has mentioned that ...</td>\n",
       "      <td>positive</td>\n",
       "    </tr>\n",
       "    <tr>\n",
       "      <th>1</th>\n",
       "      <td>a wonderful little production. the filming tec...</td>\n",
       "      <td>positive</td>\n",
       "    </tr>\n",
       "    <tr>\n",
       "      <th>2</th>\n",
       "      <td>i thought this was a wonderful way to spend ti...</td>\n",
       "      <td>positive</td>\n",
       "    </tr>\n",
       "    <tr>\n",
       "      <th>3</th>\n",
       "      <td>basically there's a family where a little boy ...</td>\n",
       "      <td>negative</td>\n",
       "    </tr>\n",
       "    <tr>\n",
       "      <th>4</th>\n",
       "      <td>petter mattei's \"love in the time of money\" is...</td>\n",
       "      <td>positive</td>\n",
       "    </tr>\n",
       "  </tbody>\n",
       "</table>\n",
       "</div>"
      ],
      "text/plain": [
       "                                              review sentiment\n",
       "0  one of the other reviewers has mentioned that ...  positive\n",
       "1  a wonderful little production. the filming tec...  positive\n",
       "2  i thought this was a wonderful way to spend ti...  positive\n",
       "3  basically there's a family where a little boy ...  negative\n",
       "4  petter mattei's \"love in the time of money\" is...  positive"
      ]
     },
     "execution_count": 31,
     "metadata": {},
     "output_type": "execute_result"
    }
   ],
   "source": [
    "df.head()"
   ]
  },
  {
   "cell_type": "code",
   "execution_count": 32,
   "id": "3f5be9b6",
   "metadata": {
    "execution": {
     "iopub.execute_input": "2023-01-23T17:01:58.868152Z",
     "iopub.status.busy": "2023-01-23T17:01:58.867796Z",
     "iopub.status.idle": "2023-01-23T17:01:58.873735Z",
     "shell.execute_reply": "2023-01-23T17:01:58.872761Z"
    },
    "papermill": {
     "duration": 0.06435,
     "end_time": "2023-01-23T17:01:58.875638",
     "exception": false,
     "start_time": "2023-01-23T17:01:58.811288",
     "status": "completed"
    },
    "tags": []
   },
   "outputs": [],
   "source": [
    "#handling emojies\n",
    "# for removing emojies\n",
    "import re\n",
    "def remove_emoji(text):\n",
    "    emoji_pattern = re.compile(\"[\"\n",
    "                           u\"\\U0001F600-\\U0001F64F\"  # emoticons\n",
    "                           u\"\\U0001F300-\\U0001F5FF\"  # symbols & pictographs\n",
    "                           u\"\\U0001F680-\\U0001F6FF\"  # transport & map symbols\n",
    "                           u\"\\U0001F1E0-\\U0001F1FF\"  # flags (iOS)\n",
    "                           u\"\\U00002702-\\U000027B0\"\n",
    "                           u\"\\U000024C2-\\U0001F251\"\n",
    "                           \"]+\", flags=re.UNICODE)\n",
    "    return emoji_pattern.sub(r'', text)"
   ]
  },
  {
   "cell_type": "code",
   "execution_count": 33,
   "id": "5e634a7d",
   "metadata": {
    "execution": {
     "iopub.execute_input": "2023-01-23T17:01:58.984981Z",
     "iopub.status.busy": "2023-01-23T17:01:58.984619Z",
     "iopub.status.idle": "2023-01-23T17:01:58.994955Z",
     "shell.execute_reply": "2023-01-23T17:01:58.994142Z"
    },
    "papermill": {
     "duration": 0.066913,
     "end_time": "2023-01-23T17:01:58.996927",
     "exception": false,
     "start_time": "2023-01-23T17:01:58.930014",
     "status": "completed"
    },
    "tags": []
   },
   "outputs": [
    {
     "data": {
      "text/plain": [
       "'Loved the movie. It was '"
      ]
     },
     "execution_count": 33,
     "metadata": {},
     "output_type": "execute_result"
    }
   ],
   "source": [
    "remove_emoji(\"Loved the movie. It was 😘😘\")"
   ]
  },
  {
   "cell_type": "code",
   "execution_count": 34,
   "id": "3a8d7d35",
   "metadata": {
    "execution": {
     "iopub.execute_input": "2023-01-23T17:01:59.123236Z",
     "iopub.status.busy": "2023-01-23T17:01:59.122386Z",
     "iopub.status.idle": "2023-01-23T17:01:59.178848Z",
     "shell.execute_reply": "2023-01-23T17:01:59.177867Z"
    },
    "papermill": {
     "duration": 0.121599,
     "end_time": "2023-01-23T17:01:59.181139",
     "exception": false,
     "start_time": "2023-01-23T17:01:59.059540",
     "status": "completed"
    },
    "tags": []
   },
   "outputs": [
    {
     "name": "stdout",
     "output_type": "stream",
     "text": [
      "Python is :fire:\n"
     ]
    }
   ],
   "source": [
    "# replaced emojies with meaning\n",
    "import emoji\n",
    "print(emoji.demojize('Python is 🔥'))"
   ]
  },
  {
   "cell_type": "code",
   "execution_count": 35,
   "id": "858d3aaa",
   "metadata": {
    "execution": {
     "iopub.execute_input": "2023-01-23T17:01:59.293038Z",
     "iopub.status.busy": "2023-01-23T17:01:59.292748Z",
     "iopub.status.idle": "2023-01-23T17:01:59.697007Z",
     "shell.execute_reply": "2023-01-23T17:01:59.695922Z"
    },
    "papermill": {
     "duration": 0.461268,
     "end_time": "2023-01-23T17:01:59.699217",
     "exception": false,
     "start_time": "2023-01-23T17:01:59.237949",
     "status": "completed"
    },
    "tags": []
   },
   "outputs": [
    {
     "name": "stdout",
     "output_type": "stream",
     "text": [
      "0.39890074729919434\n"
     ]
    }
   ],
   "source": [
    "start = time.time()\n",
    "emoji.demojize(df[\"review\"])\n",
    "end_time = time.time()- start\n",
    "print(end_time)"
   ]
  },
  {
   "cell_type": "code",
   "execution_count": 36,
   "id": "8b1eec40",
   "metadata": {
    "execution": {
     "iopub.execute_input": "2023-01-23T17:01:59.814805Z",
     "iopub.status.busy": "2023-01-23T17:01:59.814527Z",
     "iopub.status.idle": "2023-01-23T17:01:59.818310Z",
     "shell.execute_reply": "2023-01-23T17:01:59.817411Z"
    },
    "papermill": {
     "duration": 0.064098,
     "end_time": "2023-01-23T17:01:59.820405",
     "exception": false,
     "start_time": "2023-01-23T17:01:59.756307",
     "status": "completed"
    },
    "tags": []
   },
   "outputs": [],
   "source": [
    "#tokenization  - it is process of breaking sentence into words or breaking paragraph into sentences it depend upon use case"
   ]
  },
  {
   "cell_type": "markdown",
   "id": "4898b527",
   "metadata": {
    "papermill": {
     "duration": 0.054293,
     "end_time": "2023-01-23T17:01:59.931859",
     "exception": false,
     "start_time": "2023-01-23T17:01:59.877566",
     "status": "completed"
    },
    "tags": []
   },
   "source": [
    "**1. Using the split function**"
   ]
  },
  {
   "cell_type": "code",
   "execution_count": 37,
   "id": "4a54a14d",
   "metadata": {
    "execution": {
     "iopub.execute_input": "2023-01-23T17:02:00.046312Z",
     "iopub.status.busy": "2023-01-23T17:02:00.045755Z",
     "iopub.status.idle": "2023-01-23T17:02:00.051460Z",
     "shell.execute_reply": "2023-01-23T17:02:00.050687Z"
    },
    "papermill": {
     "duration": 0.065244,
     "end_time": "2023-01-23T17:02:00.053537",
     "exception": false,
     "start_time": "2023-01-23T17:01:59.988293",
     "status": "completed"
    },
    "tags": []
   },
   "outputs": [
    {
     "data": {
      "text/plain": [
       "['I', 'am', 'going', 'to', 'delhi']"
      ]
     },
     "execution_count": 37,
     "metadata": {},
     "output_type": "execute_result"
    }
   ],
   "source": [
    "# word tokenization\n",
    "sent1 = 'I am going to delhi'\n",
    "sent1.split()"
   ]
  },
  {
   "cell_type": "code",
   "execution_count": 38,
   "id": "dc133553",
   "metadata": {
    "execution": {
     "iopub.execute_input": "2023-01-23T17:02:00.170313Z",
     "iopub.status.busy": "2023-01-23T17:02:00.170018Z",
     "iopub.status.idle": "2023-01-23T17:02:00.175943Z",
     "shell.execute_reply": "2023-01-23T17:02:00.175086Z"
    },
    "papermill": {
     "duration": 0.066138,
     "end_time": "2023-01-23T17:02:00.177887",
     "exception": false,
     "start_time": "2023-01-23T17:02:00.111749",
     "status": "completed"
    },
    "tags": []
   },
   "outputs": [
    {
     "data": {
      "text/plain": [
       "['I am going to delhi',\n",
       " ' I will stay there for 3 days',\n",
       " \" Let's hope the trip to be great\"]"
      ]
     },
     "execution_count": 38,
     "metadata": {},
     "output_type": "execute_result"
    }
   ],
   "source": [
    "# sentence tokenization\n",
    "sent2 = 'I am going to delhi. I will stay there for 3 days. Let\\'s hope the trip to be great'\n",
    "sent2.split(\".\")"
   ]
  },
  {
   "cell_type": "code",
   "execution_count": 39,
   "id": "a032f52e",
   "metadata": {
    "execution": {
     "iopub.execute_input": "2023-01-23T17:02:00.291267Z",
     "iopub.status.busy": "2023-01-23T17:02:00.290681Z",
     "iopub.status.idle": "2023-01-23T17:02:00.296884Z",
     "shell.execute_reply": "2023-01-23T17:02:00.296019Z"
    },
    "papermill": {
     "duration": 0.066095,
     "end_time": "2023-01-23T17:02:00.298955",
     "exception": false,
     "start_time": "2023-01-23T17:02:00.232860",
     "status": "completed"
    },
    "tags": []
   },
   "outputs": [
    {
     "data": {
      "text/plain": [
       "['I', 'am', 'going', 'to', 'delhi!']"
      ]
     },
     "execution_count": 39,
     "metadata": {},
     "output_type": "execute_result"
    }
   ],
   "source": [
    "# Problems with split function\n",
    "sent3 = 'I am going to delhi!'\n",
    "sent3.split()"
   ]
  },
  {
   "cell_type": "code",
   "execution_count": 40,
   "id": "134c5b87",
   "metadata": {
    "execution": {
     "iopub.execute_input": "2023-01-23T17:02:00.411543Z",
     "iopub.status.busy": "2023-01-23T17:02:00.411270Z",
     "iopub.status.idle": "2023-01-23T17:02:00.417018Z",
     "shell.execute_reply": "2023-01-23T17:02:00.416327Z"
    },
    "papermill": {
     "duration": 0.064192,
     "end_time": "2023-01-23T17:02:00.418867",
     "exception": false,
     "start_time": "2023-01-23T17:02:00.354675",
     "status": "completed"
    },
    "tags": []
   },
   "outputs": [
    {
     "data": {
      "text/plain": [
       "['Where do think I should go? I have 3 day holiday']"
      ]
     },
     "execution_count": 40,
     "metadata": {},
     "output_type": "execute_result"
    }
   ],
   "source": [
    "sent4 = 'Where do think I should go? I have 3 day holiday'\n",
    "sent4.split('.')"
   ]
  },
  {
   "cell_type": "markdown",
   "id": "d7d854ff",
   "metadata": {
    "papermill": {
     "duration": 0.055296,
     "end_time": "2023-01-23T17:02:00.531285",
     "exception": false,
     "start_time": "2023-01-23T17:02:00.475989",
     "status": "completed"
    },
    "tags": []
   },
   "source": [
    "**2. Regular Expression**"
   ]
  },
  {
   "cell_type": "code",
   "execution_count": 41,
   "id": "4c3050d5",
   "metadata": {
    "execution": {
     "iopub.execute_input": "2023-01-23T17:02:00.645167Z",
     "iopub.status.busy": "2023-01-23T17:02:00.644852Z",
     "iopub.status.idle": "2023-01-23T17:02:00.651179Z",
     "shell.execute_reply": "2023-01-23T17:02:00.650334Z"
    },
    "papermill": {
     "duration": 0.065667,
     "end_time": "2023-01-23T17:02:00.653354",
     "exception": false,
     "start_time": "2023-01-23T17:02:00.587687",
     "status": "completed"
    },
    "tags": []
   },
   "outputs": [
    {
     "data": {
      "text/plain": [
       "['I', 'am', 'going', 'to', 'delhi']"
      ]
     },
     "execution_count": 41,
     "metadata": {},
     "output_type": "execute_result"
    }
   ],
   "source": [
    "import re\n",
    "sent3 = 'I am going to delhi!'\n",
    "tokens = re.findall(\"[\\w']+\", sent3)\n",
    "tokens"
   ]
  },
  {
   "cell_type": "code",
   "execution_count": 42,
   "id": "16455804",
   "metadata": {
    "execution": {
     "iopub.execute_input": "2023-01-23T17:02:00.776895Z",
     "iopub.status.busy": "2023-01-23T17:02:00.776619Z",
     "iopub.status.idle": "2023-01-23T17:02:00.783075Z",
     "shell.execute_reply": "2023-01-23T17:02:00.782496Z"
    },
    "papermill": {
     "duration": 0.069651,
     "end_time": "2023-01-23T17:02:00.784969",
     "exception": false,
     "start_time": "2023-01-23T17:02:00.715318",
     "status": "completed"
    },
    "tags": []
   },
   "outputs": [
    {
     "data": {
      "text/plain": [
       "['Lorem Ipsum is simply dummy text of the printing and typesetting industry',\n",
       " \"\\nLorem Ipsum has been the industry's standard dummy text ever since the 1500s, \\nwhen an unknown printer took a galley of type and scrambled it to make a type specimen book.\"]"
      ]
     },
     "execution_count": 42,
     "metadata": {},
     "output_type": "execute_result"
    }
   ],
   "source": [
    "text = \"\"\"Lorem Ipsum is simply dummy text of the printing and typesetting industry? \n",
    "Lorem Ipsum has been the industry's standard dummy text ever since the 1500s, \n",
    "when an unknown printer took a galley of type and scrambled it to make a type specimen book.\"\"\"\n",
    "sentences = re.compile('[.!?] ').split(text)\n",
    "sentences"
   ]
  },
  {
   "cell_type": "markdown",
   "id": "4aae344a",
   "metadata": {
    "papermill": {
     "duration": 0.05989,
     "end_time": "2023-01-23T17:02:00.904150",
     "exception": false,
     "start_time": "2023-01-23T17:02:00.844260",
     "status": "completed"
    },
    "tags": []
   },
   "source": [
    "**3. NLTK**"
   ]
  },
  {
   "cell_type": "code",
   "execution_count": 43,
   "id": "77ca95fa",
   "metadata": {
    "execution": {
     "iopub.execute_input": "2023-01-23T17:02:01.025336Z",
     "iopub.status.busy": "2023-01-23T17:02:01.024445Z",
     "iopub.status.idle": "2023-01-23T17:02:01.029157Z",
     "shell.execute_reply": "2023-01-23T17:02:01.028523Z"
    },
    "papermill": {
     "duration": 0.066543,
     "end_time": "2023-01-23T17:02:01.031090",
     "exception": false,
     "start_time": "2023-01-23T17:02:00.964547",
     "status": "completed"
    },
    "tags": []
   },
   "outputs": [],
   "source": [
    "from nltk.tokenize import word_tokenize, sent_tokenize"
   ]
  },
  {
   "cell_type": "code",
   "execution_count": 44,
   "id": "496216de",
   "metadata": {
    "execution": {
     "iopub.execute_input": "2023-01-23T17:02:01.147084Z",
     "iopub.status.busy": "2023-01-23T17:02:01.146673Z",
     "iopub.status.idle": "2023-01-23T17:02:01.166459Z",
     "shell.execute_reply": "2023-01-23T17:02:01.165589Z"
    },
    "papermill": {
     "duration": 0.080271,
     "end_time": "2023-01-23T17:02:01.168761",
     "exception": false,
     "start_time": "2023-01-23T17:02:01.088490",
     "status": "completed"
    },
    "tags": []
   },
   "outputs": [
    {
     "data": {
      "text/plain": [
       "['I', 'am', 'going', 'to', 'visit', 'delhi', '!']"
      ]
     },
     "execution_count": 44,
     "metadata": {},
     "output_type": "execute_result"
    }
   ],
   "source": [
    "sent1 = 'I am going to visit delhi!'\n",
    "word_tokenize(sent1)"
   ]
  },
  {
   "cell_type": "code",
   "execution_count": 45,
   "id": "dd98dd72",
   "metadata": {
    "execution": {
     "iopub.execute_input": "2023-01-23T17:02:01.284391Z",
     "iopub.status.busy": "2023-01-23T17:02:01.283727Z",
     "iopub.status.idle": "2023-01-23T17:02:01.291139Z",
     "shell.execute_reply": "2023-01-23T17:02:01.290236Z"
    },
    "papermill": {
     "duration": 0.067664,
     "end_time": "2023-01-23T17:02:01.292936",
     "exception": false,
     "start_time": "2023-01-23T17:02:01.225272",
     "status": "completed"
    },
    "tags": []
   },
   "outputs": [
    {
     "data": {
      "text/plain": [
       "['Lorem Ipsum is simply dummy text of the printing and typesetting industry?',\n",
       " \"Lorem Ipsum has been the industry's standard dummy text ever since the 1500s, \\nwhen an unknown printer took a galley of type and scrambled it to make a type specimen book.\"]"
      ]
     },
     "execution_count": 45,
     "metadata": {},
     "output_type": "execute_result"
    }
   ],
   "source": [
    "text = \"\"\"Lorem Ipsum is simply dummy text of the printing and typesetting industry? \n",
    "Lorem Ipsum has been the industry's standard dummy text ever since the 1500s, \n",
    "when an unknown printer took a galley of type and scrambled it to make a type specimen book.\"\"\"\n",
    "\n",
    "sent_tokenize(text)\n"
   ]
  },
  {
   "cell_type": "code",
   "execution_count": 46,
   "id": "a42d8d3f",
   "metadata": {
    "execution": {
     "iopub.execute_input": "2023-01-23T17:02:01.409130Z",
     "iopub.status.busy": "2023-01-23T17:02:01.408815Z",
     "iopub.status.idle": "2023-01-23T17:02:01.414682Z",
     "shell.execute_reply": "2023-01-23T17:02:01.413896Z"
    },
    "papermill": {
     "duration": 0.066946,
     "end_time": "2023-01-23T17:02:01.416842",
     "exception": false,
     "start_time": "2023-01-23T17:02:01.349896",
     "status": "completed"
    },
    "tags": []
   },
   "outputs": [
    {
     "data": {
      "text/plain": [
       "['I', 'have', 'a', 'Ph.D', 'in', 'A.I']"
      ]
     },
     "execution_count": 46,
     "metadata": {},
     "output_type": "execute_result"
    }
   ],
   "source": [
    "sent5 = 'I have a Ph.D in A.I'\n",
    "sent6 = \"We're here to help! mail us at nks@gmail.com\"\n",
    "sent7 = 'A 5km ride cost $10.50'\n",
    "\n",
    "word_tokenize(sent5)"
   ]
  },
  {
   "cell_type": "code",
   "execution_count": 47,
   "id": "d7878e18",
   "metadata": {
    "execution": {
     "iopub.execute_input": "2023-01-23T17:02:01.533643Z",
     "iopub.status.busy": "2023-01-23T17:02:01.533346Z",
     "iopub.status.idle": "2023-01-23T17:02:01.539421Z",
     "shell.execute_reply": "2023-01-23T17:02:01.538606Z"
    },
    "papermill": {
     "duration": 0.066743,
     "end_time": "2023-01-23T17:02:01.541575",
     "exception": false,
     "start_time": "2023-01-23T17:02:01.474832",
     "status": "completed"
    },
    "tags": []
   },
   "outputs": [
    {
     "data": {
      "text/plain": [
       "['A', '5km', 'ride', 'cost', '$', '10.50']"
      ]
     },
     "execution_count": 47,
     "metadata": {},
     "output_type": "execute_result"
    }
   ],
   "source": [
    "word_tokenize(sent7)"
   ]
  },
  {
   "cell_type": "markdown",
   "id": "a5d680fa",
   "metadata": {
    "papermill": {
     "duration": 0.057056,
     "end_time": "2023-01-23T17:02:01.657057",
     "exception": false,
     "start_time": "2023-01-23T17:02:01.600001",
     "status": "completed"
    },
    "tags": []
   },
   "source": [
    "**4. Spacy**"
   ]
  },
  {
   "cell_type": "code",
   "execution_count": 48,
   "id": "0fecd91b",
   "metadata": {
    "execution": {
     "iopub.execute_input": "2023-01-23T17:02:01.775092Z",
     "iopub.status.busy": "2023-01-23T17:02:01.774816Z",
     "iopub.status.idle": "2023-01-23T17:02:12.583398Z",
     "shell.execute_reply": "2023-01-23T17:02:12.582521Z"
    },
    "papermill": {
     "duration": 10.869783,
     "end_time": "2023-01-23T17:02:12.585636",
     "exception": false,
     "start_time": "2023-01-23T17:02:01.715853",
     "status": "completed"
    },
    "tags": []
   },
   "outputs": [],
   "source": [
    "import spacy #it perform better\n",
    "nlp = spacy.load('en_core_web_sm')"
   ]
  },
  {
   "cell_type": "code",
   "execution_count": 49,
   "id": "41ff6569",
   "metadata": {
    "execution": {
     "iopub.execute_input": "2023-01-23T17:02:12.702623Z",
     "iopub.status.busy": "2023-01-23T17:02:12.702307Z",
     "iopub.status.idle": "2023-01-23T17:02:12.744971Z",
     "shell.execute_reply": "2023-01-23T17:02:12.744238Z"
    },
    "papermill": {
     "duration": 0.103605,
     "end_time": "2023-01-23T17:02:12.747230",
     "exception": false,
     "start_time": "2023-01-23T17:02:12.643625",
     "status": "completed"
    },
    "tags": []
   },
   "outputs": [],
   "source": [
    "doc1 = nlp(sent5)\n",
    "doc2 = nlp(sent6)\n",
    "doc3 = nlp(sent7)\n",
    "doc4 = nlp(sent1)"
   ]
  },
  {
   "cell_type": "code",
   "execution_count": 50,
   "id": "f9d25583",
   "metadata": {
    "execution": {
     "iopub.execute_input": "2023-01-23T17:02:12.865076Z",
     "iopub.status.busy": "2023-01-23T17:02:12.864421Z",
     "iopub.status.idle": "2023-01-23T17:02:12.869966Z",
     "shell.execute_reply": "2023-01-23T17:02:12.869117Z"
    },
    "papermill": {
     "duration": 0.066913,
     "end_time": "2023-01-23T17:02:12.872004",
     "exception": false,
     "start_time": "2023-01-23T17:02:12.805091",
     "status": "completed"
    },
    "tags": []
   },
   "outputs": [
    {
     "name": "stdout",
     "output_type": "stream",
     "text": [
      "I\n",
      "am\n",
      "going\n",
      "to\n",
      "visit\n",
      "delhi\n",
      "!\n"
     ]
    }
   ],
   "source": [
    "for token in doc4:\n",
    "    print(token)"
   ]
  }
 ],
 "metadata": {
  "kernelspec": {
   "display_name": "Python 3",
   "language": "python",
   "name": "python3"
  },
  "language_info": {
   "codemirror_mode": {
    "name": "ipython",
    "version": 3
   },
   "file_extension": ".py",
   "mimetype": "text/x-python",
   "name": "python",
   "nbconvert_exporter": "python",
   "pygments_lexer": "ipython3",
   "version": "3.7.12"
  },
  "papermill": {
   "default_parameters": {},
   "duration": 33.638356,
   "end_time": "2023-01-23T17:02:15.702196",
   "environment_variables": {},
   "exception": null,
   "input_path": "__notebook__.ipynb",
   "output_path": "__notebook__.ipynb",
   "parameters": {},
   "start_time": "2023-01-23T17:01:42.063840",
   "version": "2.3.4"
  }
 },
 "nbformat": 4,
 "nbformat_minor": 5
}
