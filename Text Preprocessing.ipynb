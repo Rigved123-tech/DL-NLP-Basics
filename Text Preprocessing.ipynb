{
 "cells": [
  {
   "cell_type": "code",
   "execution_count": 1,
   "id": "7f471890",
   "metadata": {
    "_cell_guid": "b1076dfc-b9ad-4769-8c92-a6c4dae69d19",
    "_uuid": "8f2839f25d086af736a60e9eeb907d3b93b6e0e5",
    "execution": {
     "iopub.execute_input": "2023-01-20T04:56:14.665346Z",
     "iopub.status.busy": "2023-01-20T04:56:14.664834Z",
     "iopub.status.idle": "2023-01-20T04:56:14.682423Z",
     "shell.execute_reply": "2023-01-20T04:56:14.681797Z"
    },
    "papermill": {
     "duration": 0.076101,
     "end_time": "2023-01-20T04:56:14.684849",
     "exception": false,
     "start_time": "2023-01-20T04:56:14.608748",
     "status": "completed"
    },
    "tags": []
   },
   "outputs": [
    {
     "name": "stdout",
     "output_type": "stream",
     "text": [
      "/kaggle/input/imdb-dataset-of-50k-movie-reviews/IMDB Dataset.csv\n"
     ]
    }
   ],
   "source": [
    "import numpy as np \n",
    "import pandas as pd\n",
    "import os\n",
    "for dirname, _, filenames in os.walk('/kaggle/input'):\n",
    "    for filename in filenames:\n",
    "        print(os.path.join(dirname, filename))"
   ]
  },
  {
   "cell_type": "code",
   "execution_count": 2,
   "id": "812e723d",
   "metadata": {
    "execution": {
     "iopub.execute_input": "2023-01-20T04:56:14.795661Z",
     "iopub.status.busy": "2023-01-20T04:56:14.795114Z",
     "iopub.status.idle": "2023-01-20T04:56:16.468779Z",
     "shell.execute_reply": "2023-01-20T04:56:16.467841Z"
    },
    "papermill": {
     "duration": 1.732873,
     "end_time": "2023-01-20T04:56:16.471734",
     "exception": false,
     "start_time": "2023-01-20T04:56:14.738861",
     "status": "completed"
    },
    "tags": []
   },
   "outputs": [],
   "source": [
    "df = pd.read_csv(\"/kaggle/input/imdb-dataset-of-50k-movie-reviews/IMDB Dataset.csv\")"
   ]
  },
  {
   "cell_type": "code",
   "execution_count": 3,
   "id": "4ec23ccc",
   "metadata": {
    "execution": {
     "iopub.execute_input": "2023-01-20T04:56:16.582741Z",
     "iopub.status.busy": "2023-01-20T04:56:16.582405Z",
     "iopub.status.idle": "2023-01-20T04:56:16.589890Z",
     "shell.execute_reply": "2023-01-20T04:56:16.589227Z"
    },
    "papermill": {
     "duration": 0.064336,
     "end_time": "2023-01-20T04:56:16.592648",
     "exception": false,
     "start_time": "2023-01-20T04:56:16.528312",
     "status": "completed"
    },
    "tags": []
   },
   "outputs": [
    {
     "data": {
      "text/plain": [
       "(50000, 2)"
      ]
     },
     "execution_count": 3,
     "metadata": {},
     "output_type": "execute_result"
    }
   ],
   "source": [
    "df.shape"
   ]
  },
  {
   "cell_type": "code",
   "execution_count": 4,
   "id": "617dbca5",
   "metadata": {
    "execution": {
     "iopub.execute_input": "2023-01-20T04:56:16.701393Z",
     "iopub.status.busy": "2023-01-20T04:56:16.700805Z",
     "iopub.status.idle": "2023-01-20T04:56:16.723144Z",
     "shell.execute_reply": "2023-01-20T04:56:16.722447Z"
    },
    "papermill": {
     "duration": 0.079372,
     "end_time": "2023-01-20T04:56:16.725155",
     "exception": false,
     "start_time": "2023-01-20T04:56:16.645783",
     "status": "completed"
    },
    "tags": []
   },
   "outputs": [
    {
     "data": {
      "text/html": [
       "<div>\n",
       "<style scoped>\n",
       "    .dataframe tbody tr th:only-of-type {\n",
       "        vertical-align: middle;\n",
       "    }\n",
       "\n",
       "    .dataframe tbody tr th {\n",
       "        vertical-align: top;\n",
       "    }\n",
       "\n",
       "    .dataframe thead th {\n",
       "        text-align: right;\n",
       "    }\n",
       "</style>\n",
       "<table border=\"1\" class=\"dataframe\">\n",
       "  <thead>\n",
       "    <tr style=\"text-align: right;\">\n",
       "      <th></th>\n",
       "      <th>review</th>\n",
       "      <th>sentiment</th>\n",
       "    </tr>\n",
       "  </thead>\n",
       "  <tbody>\n",
       "    <tr>\n",
       "      <th>0</th>\n",
       "      <td>One of the other reviewers has mentioned that ...</td>\n",
       "      <td>positive</td>\n",
       "    </tr>\n",
       "    <tr>\n",
       "      <th>1</th>\n",
       "      <td>A wonderful little production. &lt;br /&gt;&lt;br /&gt;The...</td>\n",
       "      <td>positive</td>\n",
       "    </tr>\n",
       "    <tr>\n",
       "      <th>2</th>\n",
       "      <td>I thought this was a wonderful way to spend ti...</td>\n",
       "      <td>positive</td>\n",
       "    </tr>\n",
       "    <tr>\n",
       "      <th>3</th>\n",
       "      <td>Basically there's a family where a little boy ...</td>\n",
       "      <td>negative</td>\n",
       "    </tr>\n",
       "    <tr>\n",
       "      <th>4</th>\n",
       "      <td>Petter Mattei's \"Love in the Time of Money\" is...</td>\n",
       "      <td>positive</td>\n",
       "    </tr>\n",
       "  </tbody>\n",
       "</table>\n",
       "</div>"
      ],
      "text/plain": [
       "                                              review sentiment\n",
       "0  One of the other reviewers has mentioned that ...  positive\n",
       "1  A wonderful little production. <br /><br />The...  positive\n",
       "2  I thought this was a wonderful way to spend ti...  positive\n",
       "3  Basically there's a family where a little boy ...  negative\n",
       "4  Petter Mattei's \"Love in the Time of Money\" is...  positive"
      ]
     },
     "execution_count": 4,
     "metadata": {},
     "output_type": "execute_result"
    }
   ],
   "source": [
    "df.head()"
   ]
  },
  {
   "cell_type": "code",
   "execution_count": 5,
   "id": "7d3c29fc",
   "metadata": {
    "execution": {
     "iopub.execute_input": "2023-01-20T04:56:16.835123Z",
     "iopub.status.busy": "2023-01-20T04:56:16.834562Z",
     "iopub.status.idle": "2023-01-20T04:56:16.844652Z",
     "shell.execute_reply": "2023-01-20T04:56:16.843728Z"
    },
    "papermill": {
     "duration": 0.067904,
     "end_time": "2023-01-20T04:56:16.846816",
     "exception": false,
     "start_time": "2023-01-20T04:56:16.778912",
     "status": "completed"
    },
    "tags": []
   },
   "outputs": [
    {
     "data": {
      "text/plain": [
       "'a wonderful little production. <br /><br />the filming technique is very unassuming- very old-time-bbc fashion and gives a comforting, and sometimes discomforting, sense of realism to the entire piece. <br /><br />the actors are extremely well chosen- michael sheen not only \"has got all the polari\" but he has all the voices down pat too! you can truly see the seamless editing guided by the references to williams\\' diary entries, not only is it well worth the watching but it is a terrificly written and performed piece. a masterful production about one of the great master\\'s of comedy and his life. <br /><br />the realism really comes home with the little things: the fantasy of the guard which, rather than use the traditional \\'dream\\' techniques remains solid then disappears. it plays on our knowledge and our senses, particularly with the scenes concerning orton and halliwell and the sets (particularly of their flat with halliwell\\'s murals decorating every surface) are terribly well done.'"
      ]
     },
     "execution_count": 5,
     "metadata": {},
     "output_type": "execute_result"
    }
   ],
   "source": [
    "df[\"review\"][1].lower()"
   ]
  },
  {
   "cell_type": "code",
   "execution_count": 6,
   "id": "0e7a001b",
   "metadata": {
    "execution": {
     "iopub.execute_input": "2023-01-20T04:56:16.959412Z",
     "iopub.status.busy": "2023-01-20T04:56:16.958472Z",
     "iopub.status.idle": "2023-01-20T04:56:17.125798Z",
     "shell.execute_reply": "2023-01-20T04:56:17.124951Z"
    },
    "papermill": {
     "duration": 0.227173,
     "end_time": "2023-01-20T04:56:17.128249",
     "exception": false,
     "start_time": "2023-01-20T04:56:16.901076",
     "status": "completed"
    },
    "tags": []
   },
   "outputs": [],
   "source": [
    "df[\"review\"] = df[\"review\"].str.lower() #lowecasing all data"
   ]
  },
  {
   "cell_type": "code",
   "execution_count": 7,
   "id": "fb287635",
   "metadata": {
    "execution": {
     "iopub.execute_input": "2023-01-20T04:56:17.243235Z",
     "iopub.status.busy": "2023-01-20T04:56:17.242371Z",
     "iopub.status.idle": "2023-01-20T04:56:17.253106Z",
     "shell.execute_reply": "2023-01-20T04:56:17.252141Z"
    },
    "papermill": {
     "duration": 0.069905,
     "end_time": "2023-01-20T04:56:17.255281",
     "exception": false,
     "start_time": "2023-01-20T04:56:17.185376",
     "status": "completed"
    },
    "tags": []
   },
   "outputs": [
    {
     "data": {
      "text/html": [
       "<div>\n",
       "<style scoped>\n",
       "    .dataframe tbody tr th:only-of-type {\n",
       "        vertical-align: middle;\n",
       "    }\n",
       "\n",
       "    .dataframe tbody tr th {\n",
       "        vertical-align: top;\n",
       "    }\n",
       "\n",
       "    .dataframe thead th {\n",
       "        text-align: right;\n",
       "    }\n",
       "</style>\n",
       "<table border=\"1\" class=\"dataframe\">\n",
       "  <thead>\n",
       "    <tr style=\"text-align: right;\">\n",
       "      <th></th>\n",
       "      <th>review</th>\n",
       "      <th>sentiment</th>\n",
       "    </tr>\n",
       "  </thead>\n",
       "  <tbody>\n",
       "    <tr>\n",
       "      <th>0</th>\n",
       "      <td>one of the other reviewers has mentioned that ...</td>\n",
       "      <td>positive</td>\n",
       "    </tr>\n",
       "    <tr>\n",
       "      <th>1</th>\n",
       "      <td>a wonderful little production. &lt;br /&gt;&lt;br /&gt;the...</td>\n",
       "      <td>positive</td>\n",
       "    </tr>\n",
       "    <tr>\n",
       "      <th>2</th>\n",
       "      <td>i thought this was a wonderful way to spend ti...</td>\n",
       "      <td>positive</td>\n",
       "    </tr>\n",
       "    <tr>\n",
       "      <th>3</th>\n",
       "      <td>basically there's a family where a little boy ...</td>\n",
       "      <td>negative</td>\n",
       "    </tr>\n",
       "    <tr>\n",
       "      <th>4</th>\n",
       "      <td>petter mattei's \"love in the time of money\" is...</td>\n",
       "      <td>positive</td>\n",
       "    </tr>\n",
       "  </tbody>\n",
       "</table>\n",
       "</div>"
      ],
      "text/plain": [
       "                                              review sentiment\n",
       "0  one of the other reviewers has mentioned that ...  positive\n",
       "1  a wonderful little production. <br /><br />the...  positive\n",
       "2  i thought this was a wonderful way to spend ti...  positive\n",
       "3  basically there's a family where a little boy ...  negative\n",
       "4  petter mattei's \"love in the time of money\" is...  positive"
      ]
     },
     "execution_count": 7,
     "metadata": {},
     "output_type": "execute_result"
    }
   ],
   "source": [
    "df.head()"
   ]
  },
  {
   "cell_type": "code",
   "execution_count": 8,
   "id": "a14b5489",
   "metadata": {
    "execution": {
     "iopub.execute_input": "2023-01-20T04:56:17.368327Z",
     "iopub.status.busy": "2023-01-20T04:56:17.367345Z",
     "iopub.status.idle": "2023-01-20T04:56:17.372661Z",
     "shell.execute_reply": "2023-01-20T04:56:17.371942Z"
    },
    "papermill": {
     "duration": 0.064468,
     "end_time": "2023-01-20T04:56:17.374907",
     "exception": false,
     "start_time": "2023-01-20T04:56:17.310439",
     "status": "completed"
    },
    "tags": []
   },
   "outputs": [],
   "source": [
    "import re\n",
    "def remove_html_tags(text):\n",
    "    pattern = re.compile('<.*?>')\n",
    "    return pattern.sub(r'', text)"
   ]
  },
  {
   "cell_type": "code",
   "execution_count": 9,
   "id": "53645bed",
   "metadata": {
    "execution": {
     "iopub.execute_input": "2023-01-20T04:56:17.486392Z",
     "iopub.status.busy": "2023-01-20T04:56:17.485810Z",
     "iopub.status.idle": "2023-01-20T04:56:17.490287Z",
     "shell.execute_reply": "2023-01-20T04:56:17.489601Z"
    },
    "papermill": {
     "duration": 0.062595,
     "end_time": "2023-01-20T04:56:17.492294",
     "exception": false,
     "start_time": "2023-01-20T04:56:17.429699",
     "status": "completed"
    },
    "tags": []
   },
   "outputs": [],
   "source": [
    "text = \"<html><body><p> Movie 1</p><p> Actor - Aamir Khan</p><p> Click here to <a href='http://google.com'>download</a></p></body></html>\""
   ]
  },
  {
   "cell_type": "code",
   "execution_count": 10,
   "id": "16d4b3c6",
   "metadata": {
    "execution": {
     "iopub.execute_input": "2023-01-20T04:56:17.602855Z",
     "iopub.status.busy": "2023-01-20T04:56:17.602554Z",
     "iopub.status.idle": "2023-01-20T04:56:17.608387Z",
     "shell.execute_reply": "2023-01-20T04:56:17.607579Z"
    },
    "papermill": {
     "duration": 0.063875,
     "end_time": "2023-01-20T04:56:17.610597",
     "exception": false,
     "start_time": "2023-01-20T04:56:17.546722",
     "status": "completed"
    },
    "tags": []
   },
   "outputs": [
    {
     "data": {
      "text/plain": [
       "' Movie 1 Actor - Aamir Khan Click here to download'"
      ]
     },
     "execution_count": 10,
     "metadata": {},
     "output_type": "execute_result"
    }
   ],
   "source": [
    "remove_html_tags(text)"
   ]
  },
  {
   "cell_type": "code",
   "execution_count": 11,
   "id": "0ac959ed",
   "metadata": {
    "execution": {
     "iopub.execute_input": "2023-01-20T04:56:17.721591Z",
     "iopub.status.busy": "2023-01-20T04:56:17.721096Z",
     "iopub.status.idle": "2023-01-20T04:56:17.910995Z",
     "shell.execute_reply": "2023-01-20T04:56:17.910278Z"
    },
    "papermill": {
     "duration": 0.248436,
     "end_time": "2023-01-20T04:56:17.913441",
     "exception": false,
     "start_time": "2023-01-20T04:56:17.665005",
     "status": "completed"
    },
    "tags": []
   },
   "outputs": [],
   "source": [
    "df[\"review\"] = df[\"review\"].apply(remove_html_tags)  #removing html tags"
   ]
  },
  {
   "cell_type": "code",
   "execution_count": 12,
   "id": "5dc5dbce",
   "metadata": {
    "execution": {
     "iopub.execute_input": "2023-01-20T04:56:18.027354Z",
     "iopub.status.busy": "2023-01-20T04:56:18.026870Z",
     "iopub.status.idle": "2023-01-20T04:56:18.034722Z",
     "shell.execute_reply": "2023-01-20T04:56:18.033776Z"
    },
    "papermill": {
     "duration": 0.067622,
     "end_time": "2023-01-20T04:56:18.036814",
     "exception": false,
     "start_time": "2023-01-20T04:56:17.969192",
     "status": "completed"
    },
    "tags": []
   },
   "outputs": [
    {
     "data": {
      "text/plain": [
       "'a wonderful little production. the filming technique is very unassuming- very old-time-bbc fashion and gives a comforting, and sometimes discomforting, sense of realism to the entire piece. the actors are extremely well chosen- michael sheen not only \"has got all the polari\" but he has all the voices down pat too! you can truly see the seamless editing guided by the references to williams\\' diary entries, not only is it well worth the watching but it is a terrificly written and performed piece. a masterful production about one of the great master\\'s of comedy and his life. the realism really comes home with the little things: the fantasy of the guard which, rather than use the traditional \\'dream\\' techniques remains solid then disappears. it plays on our knowledge and our senses, particularly with the scenes concerning orton and halliwell and the sets (particularly of their flat with halliwell\\'s murals decorating every surface) are terribly well done.'"
      ]
     },
     "execution_count": 12,
     "metadata": {},
     "output_type": "execute_result"
    }
   ],
   "source": [
    "df[\"review\"][1]"
   ]
  },
  {
   "cell_type": "code",
   "execution_count": 13,
   "id": "f85917e1",
   "metadata": {
    "execution": {
     "iopub.execute_input": "2023-01-20T04:56:18.151853Z",
     "iopub.status.busy": "2023-01-20T04:56:18.151545Z",
     "iopub.status.idle": "2023-01-20T04:56:18.155219Z",
     "shell.execute_reply": "2023-01-20T04:56:18.154619Z"
    },
    "papermill": {
     "duration": 0.063358,
     "end_time": "2023-01-20T04:56:18.157136",
     "exception": false,
     "start_time": "2023-01-20T04:56:18.093778",
     "status": "completed"
    },
    "tags": []
   },
   "outputs": [],
   "source": [
    "def remove_url(text):\n",
    "    pattern = re.compile(r'https?://\\S+|www\\.\\S+')\n",
    "    return pattern.sub(r'', text)"
   ]
  },
  {
   "cell_type": "code",
   "execution_count": 14,
   "id": "8e620954",
   "metadata": {
    "execution": {
     "iopub.execute_input": "2023-01-20T04:56:18.273124Z",
     "iopub.status.busy": "2023-01-20T04:56:18.272217Z",
     "iopub.status.idle": "2023-01-20T04:56:18.276278Z",
     "shell.execute_reply": "2023-01-20T04:56:18.275594Z"
    },
    "papermill": {
     "duration": 0.064299,
     "end_time": "2023-01-20T04:56:18.278178",
     "exception": false,
     "start_time": "2023-01-20T04:56:18.213879",
     "status": "completed"
    },
    "tags": []
   },
   "outputs": [],
   "source": [
    "text1 = 'Check out my notebook https://www.kaggle.com/campusx/notebook8223fc1abb'\n",
    "text2 = 'Check out my notebook http://www.kaggle.com/campusx/notebook8223fc1abb'\n",
    "text3 = 'Google search here www.google.com'"
   ]
  },
  {
   "cell_type": "code",
   "execution_count": 15,
   "id": "250f704d",
   "metadata": {
    "execution": {
     "iopub.execute_input": "2023-01-20T04:56:18.390910Z",
     "iopub.status.busy": "2023-01-20T04:56:18.390414Z",
     "iopub.status.idle": "2023-01-20T04:56:18.395347Z",
     "shell.execute_reply": "2023-01-20T04:56:18.394710Z"
    },
    "papermill": {
     "duration": 0.064189,
     "end_time": "2023-01-20T04:56:18.397288",
     "exception": false,
     "start_time": "2023-01-20T04:56:18.333099",
     "status": "completed"
    },
    "tags": []
   },
   "outputs": [
    {
     "data": {
      "text/plain": [
       "'Google search here '"
      ]
     },
     "execution_count": 15,
     "metadata": {},
     "output_type": "execute_result"
    }
   ],
   "source": [
    "remove_url(text3)"
   ]
  },
  {
   "cell_type": "code",
   "execution_count": 16,
   "id": "25992530",
   "metadata": {
    "execution": {
     "iopub.execute_input": "2023-01-20T04:56:18.510301Z",
     "iopub.status.busy": "2023-01-20T04:56:18.509853Z",
     "iopub.status.idle": "2023-01-20T04:56:18.515675Z",
     "shell.execute_reply": "2023-01-20T04:56:18.514619Z"
    },
    "papermill": {
     "duration": 0.064878,
     "end_time": "2023-01-20T04:56:18.517843",
     "exception": false,
     "start_time": "2023-01-20T04:56:18.452965",
     "status": "completed"
    },
    "tags": []
   },
   "outputs": [
    {
     "data": {
      "text/plain": [
       "'!\"#$%&\\'()*+,-./:;<=>?@[\\\\]^_`{|}~'"
      ]
     },
     "execution_count": 16,
     "metadata": {},
     "output_type": "execute_result"
    }
   ],
   "source": [
    "import string, time\n",
    "string.punctuation"
   ]
  },
  {
   "cell_type": "code",
   "execution_count": 17,
   "id": "d64e740a",
   "metadata": {
    "execution": {
     "iopub.execute_input": "2023-01-20T04:56:18.631481Z",
     "iopub.status.busy": "2023-01-20T04:56:18.631192Z",
     "iopub.status.idle": "2023-01-20T04:56:18.635244Z",
     "shell.execute_reply": "2023-01-20T04:56:18.634339Z"
    },
    "papermill": {
     "duration": 0.062951,
     "end_time": "2023-01-20T04:56:18.637403",
     "exception": false,
     "start_time": "2023-01-20T04:56:18.574452",
     "status": "completed"
    },
    "tags": []
   },
   "outputs": [],
   "source": [
    "exclude = string.punctuation"
   ]
  },
  {
   "cell_type": "code",
   "execution_count": 18,
   "id": "e5516884",
   "metadata": {
    "execution": {
     "iopub.execute_input": "2023-01-20T04:56:18.750596Z",
     "iopub.status.busy": "2023-01-20T04:56:18.750285Z",
     "iopub.status.idle": "2023-01-20T04:56:18.755208Z",
     "shell.execute_reply": "2023-01-20T04:56:18.754205Z"
    },
    "papermill": {
     "duration": 0.06408,
     "end_time": "2023-01-20T04:56:18.757375",
     "exception": false,
     "start_time": "2023-01-20T04:56:18.693295",
     "status": "completed"
    },
    "tags": []
   },
   "outputs": [],
   "source": [
    "def remove_pun(text):\n",
    "    for char in exclude:\n",
    "        text = text.replace(char,\"\")\n",
    "    return text"
   ]
  },
  {
   "cell_type": "code",
   "execution_count": 19,
   "id": "7fc6700a",
   "metadata": {
    "execution": {
     "iopub.execute_input": "2023-01-20T04:56:18.870736Z",
     "iopub.status.busy": "2023-01-20T04:56:18.870400Z",
     "iopub.status.idle": "2023-01-20T04:56:18.874960Z",
     "shell.execute_reply": "2023-01-20T04:56:18.873898Z"
    },
    "papermill": {
     "duration": 0.063665,
     "end_time": "2023-01-20T04:56:18.876959",
     "exception": false,
     "start_time": "2023-01-20T04:56:18.813294",
     "status": "completed"
    },
    "tags": []
   },
   "outputs": [],
   "source": [
    "text = 'string. With. Punctuation?'"
   ]
  },
  {
   "cell_type": "code",
   "execution_count": 20,
   "id": "8e471eba",
   "metadata": {
    "execution": {
     "iopub.execute_input": "2023-01-20T04:56:18.991613Z",
     "iopub.status.busy": "2023-01-20T04:56:18.991274Z",
     "iopub.status.idle": "2023-01-20T04:56:18.997539Z",
     "shell.execute_reply": "2023-01-20T04:56:18.996624Z"
    },
    "papermill": {
     "duration": 0.066085,
     "end_time": "2023-01-20T04:56:18.999766",
     "exception": false,
     "start_time": "2023-01-20T04:56:18.933681",
     "status": "completed"
    },
    "tags": []
   },
   "outputs": [
    {
     "data": {
      "text/plain": [
       "'string With Punctuation'"
      ]
     },
     "execution_count": 20,
     "metadata": {},
     "output_type": "execute_result"
    }
   ],
   "source": [
    "remove_pun(text)"
   ]
  },
  {
   "cell_type": "code",
   "execution_count": 21,
   "id": "ecf1d0cf",
   "metadata": {
    "execution": {
     "iopub.execute_input": "2023-01-20T04:56:19.114657Z",
     "iopub.status.busy": "2023-01-20T04:56:19.114297Z",
     "iopub.status.idle": "2023-01-20T04:56:19.238057Z",
     "shell.execute_reply": "2023-01-20T04:56:19.236682Z"
    },
    "papermill": {
     "duration": 0.185937,
     "end_time": "2023-01-20T04:56:19.241601",
     "exception": false,
     "start_time": "2023-01-20T04:56:19.055664",
     "status": "completed"
    },
    "tags": []
   },
   "outputs": [
    {
     "name": "stdout",
     "output_type": "stream",
     "text": [
      "0        one of the other reviewers has mentioned that ...\n",
      "1        a wonderful little production. the filming tec...\n",
      "2        i thought this was a wonderful way to spend ti...\n",
      "3        basically there's a family where a little boy ...\n",
      "4        petter mattei's \"love in the time of money\" is...\n",
      "                               ...                        \n",
      "49995    i thought this movie did a down right good job...\n",
      "49996    bad plot, bad dialogue, bad acting, idiotic di...\n",
      "49997    i am a catholic taught in parochial elementary...\n",
      "49998    i'm going to have to disagree with the previou...\n",
      "49999    no one expects the star trek movies to be high...\n",
      "Name: review, Length: 50000, dtype: object\n",
      "0.11658120155334473\n"
     ]
    }
   ],
   "source": [
    "start = time.time()\n",
    "print(remove_pun(df[\"review\"]))\n",
    "time1 = time.time() - start\n",
    "print(time1)   # this is slow process"
   ]
  },
  {
   "cell_type": "code",
   "execution_count": 22,
   "id": "213e7daf",
   "metadata": {
    "execution": {
     "iopub.execute_input": "2023-01-20T04:56:19.359166Z",
     "iopub.status.busy": "2023-01-20T04:56:19.358631Z",
     "iopub.status.idle": "2023-01-20T04:56:19.362642Z",
     "shell.execute_reply": "2023-01-20T04:56:19.362043Z"
    },
    "papermill": {
     "duration": 0.064151,
     "end_time": "2023-01-20T04:56:19.364438",
     "exception": false,
     "start_time": "2023-01-20T04:56:19.300287",
     "status": "completed"
    },
    "tags": []
   },
   "outputs": [],
   "source": [
    "def remove_punc1(text):\n",
    "    return text.translate(str.maketrans('', '', exclude))   #this technique is faster"
   ]
  },
  {
   "cell_type": "code",
   "execution_count": 23,
   "id": "7ad9b8ce",
   "metadata": {
    "execution": {
     "iopub.execute_input": "2023-01-20T04:56:19.479972Z",
     "iopub.status.busy": "2023-01-20T04:56:19.479653Z",
     "iopub.status.idle": "2023-01-20T04:56:19.485110Z",
     "shell.execute_reply": "2023-01-20T04:56:19.484115Z"
    },
    "papermill": {
     "duration": 0.066542,
     "end_time": "2023-01-20T04:56:19.487254",
     "exception": false,
     "start_time": "2023-01-20T04:56:19.420712",
     "status": "completed"
    },
    "tags": []
   },
   "outputs": [
    {
     "name": "stdout",
     "output_type": "stream",
     "text": [
      "4.0531158447265625\n"
     ]
    }
   ],
   "source": [
    "start = time.time()\n",
    "remove_punc1(text)\n",
    "time2 = time.time() - start\n",
    "print(time2*50000)"
   ]
  },
  {
   "cell_type": "code",
   "execution_count": null,
   "id": "9b7e4469",
   "metadata": {
    "papermill": {
     "duration": 0.056827,
     "end_time": "2023-01-20T04:56:19.601085",
     "exception": false,
     "start_time": "2023-01-20T04:56:19.544258",
     "status": "completed"
    },
    "tags": []
   },
   "outputs": [],
   "source": []
  },
  {
   "cell_type": "code",
   "execution_count": null,
   "id": "e69c0f18",
   "metadata": {
    "execution": {
     "iopub.execute_input": "2022-05-25T05:44:06.183505Z",
     "iopub.status.busy": "2022-05-25T05:44:06.183213Z",
     "iopub.status.idle": "2022-05-25T05:44:06.189869Z",
     "shell.execute_reply": "2022-05-25T05:44:06.189176Z",
     "shell.execute_reply.started": "2022-05-25T05:44:06.183472Z"
    },
    "papermill": {
     "duration": 0.056407,
     "end_time": "2023-01-20T04:56:19.716252",
     "exception": false,
     "start_time": "2023-01-20T04:56:19.659845",
     "status": "completed"
    },
    "tags": []
   },
   "outputs": [],
   "source": []
  },
  {
   "cell_type": "code",
   "execution_count": null,
   "id": "4b8f6d9e",
   "metadata": {
    "execution": {
     "iopub.execute_input": "2022-05-25T05:44:06.192764Z",
     "iopub.status.busy": "2022-05-25T05:44:06.192578Z",
     "iopub.status.idle": "2022-05-25T05:44:06.198204Z",
     "shell.execute_reply": "2022-05-25T05:44:06.19749Z",
     "shell.execute_reply.started": "2022-05-25T05:44:06.192736Z"
    },
    "papermill": {
     "duration": 0.056686,
     "end_time": "2023-01-20T04:56:19.831842",
     "exception": false,
     "start_time": "2023-01-20T04:56:19.775156",
     "status": "completed"
    },
    "tags": []
   },
   "outputs": [],
   "source": []
  },
  {
   "cell_type": "code",
   "execution_count": 24,
   "id": "c33e4ca8",
   "metadata": {
    "execution": {
     "iopub.execute_input": "2023-01-20T04:56:19.947444Z",
     "iopub.status.busy": "2023-01-20T04:56:19.947127Z",
     "iopub.status.idle": "2023-01-20T04:56:19.950695Z",
     "shell.execute_reply": "2023-01-20T04:56:19.949850Z"
    },
    "papermill": {
     "duration": 0.064633,
     "end_time": "2023-01-20T04:56:19.952844",
     "exception": false,
     "start_time": "2023-01-20T04:56:19.888211",
     "status": "completed"
    },
    "tags": []
   },
   "outputs": [],
   "source": [
    "#splelling correction"
   ]
  },
  {
   "cell_type": "code",
   "execution_count": 25,
   "id": "025560f1",
   "metadata": {
    "execution": {
     "iopub.execute_input": "2023-01-20T04:56:20.070832Z",
     "iopub.status.busy": "2023-01-20T04:56:20.070289Z",
     "iopub.status.idle": "2023-01-20T04:56:21.794109Z",
     "shell.execute_reply": "2023-01-20T04:56:21.793078Z"
    },
    "papermill": {
     "duration": 1.785625,
     "end_time": "2023-01-20T04:56:21.796647",
     "exception": false,
     "start_time": "2023-01-20T04:56:20.011022",
     "status": "completed"
    },
    "tags": []
   },
   "outputs": [],
   "source": [
    "from textblob import TextBlob"
   ]
  },
  {
   "cell_type": "code",
   "execution_count": 26,
   "id": "84a95dbf",
   "metadata": {
    "execution": {
     "iopub.execute_input": "2023-01-20T04:56:21.916024Z",
     "iopub.status.busy": "2023-01-20T04:56:21.914867Z",
     "iopub.status.idle": "2023-01-20T04:56:21.989007Z",
     "shell.execute_reply": "2023-01-20T04:56:21.987935Z"
    },
    "papermill": {
     "duration": 0.137695,
     "end_time": "2023-01-20T04:56:21.991542",
     "exception": false,
     "start_time": "2023-01-20T04:56:21.853847",
     "status": "completed"
    },
    "tags": []
   },
   "outputs": [
    {
     "name": "stdout",
     "output_type": "stream",
     "text": [
      "certain conditions during several generations are modified in the same manner.\n"
     ]
    }
   ],
   "source": [
    "incorrect_text = 'ceertain conditionas duriing seveal ggenerations aree moodified in the saame maner.'\n",
    "\n",
    "textblb = TextBlob(incorrect_text)\n",
    "\n",
    "a = textblb.correct().string\n",
    "print(a)"
   ]
  },
  {
   "cell_type": "code",
   "execution_count": 27,
   "id": "b657c564",
   "metadata": {
    "execution": {
     "iopub.execute_input": "2023-01-20T04:56:22.111812Z",
     "iopub.status.busy": "2023-01-20T04:56:22.111209Z",
     "iopub.status.idle": "2023-01-20T04:56:22.115739Z",
     "shell.execute_reply": "2023-01-20T04:56:22.114733Z"
    },
    "papermill": {
     "duration": 0.066923,
     "end_time": "2023-01-20T04:56:22.117764",
     "exception": false,
     "start_time": "2023-01-20T04:56:22.050841",
     "status": "completed"
    },
    "tags": []
   },
   "outputs": [],
   "source": [
    "#removing stopwards  for sentiment analysis a ,an, the these words are not required\n",
    "from nltk.corpus import stopwords"
   ]
  },
  {
   "cell_type": "code",
   "execution_count": 28,
   "id": "619e459a",
   "metadata": {
    "execution": {
     "iopub.execute_input": "2023-01-20T04:56:22.235192Z",
     "iopub.status.busy": "2023-01-20T04:56:22.234311Z",
     "iopub.status.idle": "2023-01-20T04:56:22.249392Z",
     "shell.execute_reply": "2023-01-20T04:56:22.248555Z"
    },
    "papermill": {
     "duration": 0.076267,
     "end_time": "2023-01-20T04:56:22.251522",
     "exception": false,
     "start_time": "2023-01-20T04:56:22.175255",
     "status": "completed"
    },
    "tags": []
   },
   "outputs": [
    {
     "data": {
      "text/plain": [
       "['i',\n",
       " 'me',\n",
       " 'my',\n",
       " 'myself',\n",
       " 'we',\n",
       " 'our',\n",
       " 'ours',\n",
       " 'ourselves',\n",
       " 'you',\n",
       " \"you're\",\n",
       " \"you've\",\n",
       " \"you'll\",\n",
       " \"you'd\",\n",
       " 'your',\n",
       " 'yours',\n",
       " 'yourself',\n",
       " 'yourselves',\n",
       " 'he',\n",
       " 'him',\n",
       " 'his',\n",
       " 'himself',\n",
       " 'she',\n",
       " \"she's\",\n",
       " 'her',\n",
       " 'hers',\n",
       " 'herself',\n",
       " 'it',\n",
       " \"it's\",\n",
       " 'its',\n",
       " 'itself',\n",
       " 'they',\n",
       " 'them',\n",
       " 'their',\n",
       " 'theirs',\n",
       " 'themselves',\n",
       " 'what',\n",
       " 'which',\n",
       " 'who',\n",
       " 'whom',\n",
       " 'this',\n",
       " 'that',\n",
       " \"that'll\",\n",
       " 'these',\n",
       " 'those',\n",
       " 'am',\n",
       " 'is',\n",
       " 'are',\n",
       " 'was',\n",
       " 'were',\n",
       " 'be',\n",
       " 'been',\n",
       " 'being',\n",
       " 'have',\n",
       " 'has',\n",
       " 'had',\n",
       " 'having',\n",
       " 'do',\n",
       " 'does',\n",
       " 'did',\n",
       " 'doing',\n",
       " 'a',\n",
       " 'an',\n",
       " 'the',\n",
       " 'and',\n",
       " 'but',\n",
       " 'if',\n",
       " 'or',\n",
       " 'because',\n",
       " 'as',\n",
       " 'until',\n",
       " 'while',\n",
       " 'of',\n",
       " 'at',\n",
       " 'by',\n",
       " 'for',\n",
       " 'with',\n",
       " 'about',\n",
       " 'against',\n",
       " 'between',\n",
       " 'into',\n",
       " 'through',\n",
       " 'during',\n",
       " 'before',\n",
       " 'after',\n",
       " 'above',\n",
       " 'below',\n",
       " 'to',\n",
       " 'from',\n",
       " 'up',\n",
       " 'down',\n",
       " 'in',\n",
       " 'out',\n",
       " 'on',\n",
       " 'off',\n",
       " 'over',\n",
       " 'under',\n",
       " 'again',\n",
       " 'further',\n",
       " 'then',\n",
       " 'once',\n",
       " 'here',\n",
       " 'there',\n",
       " 'when',\n",
       " 'where',\n",
       " 'why',\n",
       " 'how',\n",
       " 'all',\n",
       " 'any',\n",
       " 'both',\n",
       " 'each',\n",
       " 'few',\n",
       " 'more',\n",
       " 'most',\n",
       " 'other',\n",
       " 'some',\n",
       " 'such',\n",
       " 'no',\n",
       " 'nor',\n",
       " 'not',\n",
       " 'only',\n",
       " 'own',\n",
       " 'same',\n",
       " 'so',\n",
       " 'than',\n",
       " 'too',\n",
       " 'very',\n",
       " 's',\n",
       " 't',\n",
       " 'can',\n",
       " 'will',\n",
       " 'just',\n",
       " 'don',\n",
       " \"don't\",\n",
       " 'should',\n",
       " \"should've\",\n",
       " 'now',\n",
       " 'd',\n",
       " 'll',\n",
       " 'm',\n",
       " 'o',\n",
       " 're',\n",
       " 've',\n",
       " 'y',\n",
       " 'ain',\n",
       " 'aren',\n",
       " \"aren't\",\n",
       " 'couldn',\n",
       " \"couldn't\",\n",
       " 'didn',\n",
       " \"didn't\",\n",
       " 'doesn',\n",
       " \"doesn't\",\n",
       " 'hadn',\n",
       " \"hadn't\",\n",
       " 'hasn',\n",
       " \"hasn't\",\n",
       " 'haven',\n",
       " \"haven't\",\n",
       " 'isn',\n",
       " \"isn't\",\n",
       " 'ma',\n",
       " 'mightn',\n",
       " \"mightn't\",\n",
       " 'mustn',\n",
       " \"mustn't\",\n",
       " 'needn',\n",
       " \"needn't\",\n",
       " 'shan',\n",
       " \"shan't\",\n",
       " 'shouldn',\n",
       " \"shouldn't\",\n",
       " 'wasn',\n",
       " \"wasn't\",\n",
       " 'weren',\n",
       " \"weren't\",\n",
       " 'won',\n",
       " \"won't\",\n",
       " 'wouldn',\n",
       " \"wouldn't\"]"
      ]
     },
     "execution_count": 28,
     "metadata": {},
     "output_type": "execute_result"
    }
   ],
   "source": [
    "stopwords.words(\"english\")"
   ]
  },
  {
   "cell_type": "code",
   "execution_count": 29,
   "id": "3887a775",
   "metadata": {
    "execution": {
     "iopub.execute_input": "2023-01-20T04:56:22.368165Z",
     "iopub.status.busy": "2023-01-20T04:56:22.367590Z",
     "iopub.status.idle": "2023-01-20T04:56:22.372419Z",
     "shell.execute_reply": "2023-01-20T04:56:22.371851Z"
    },
    "papermill": {
     "duration": 0.065887,
     "end_time": "2023-01-20T04:56:22.374686",
     "exception": false,
     "start_time": "2023-01-20T04:56:22.308799",
     "status": "completed"
    },
    "tags": []
   },
   "outputs": [],
   "source": [
    "def remove_stopwords(text):\n",
    "    new_text = []\n",
    "    \n",
    "    for word in text.split():\n",
    "        if word in stopwords.words('english'):\n",
    "            new_text.append('')\n",
    "        else:\n",
    "            new_text.append(word)\n",
    "    x = new_text[:]\n",
    "    new_text.clear()\n",
    "    return \" \".join(x)"
   ]
  },
  {
   "cell_type": "code",
   "execution_count": 30,
   "id": "89dc7af1",
   "metadata": {
    "execution": {
     "iopub.execute_input": "2023-01-20T04:56:22.492803Z",
     "iopub.status.busy": "2023-01-20T04:56:22.492185Z",
     "iopub.status.idle": "2023-01-20T04:56:22.503575Z",
     "shell.execute_reply": "2023-01-20T04:56:22.502603Z"
    },
    "papermill": {
     "duration": 0.073288,
     "end_time": "2023-01-20T04:56:22.505673",
     "exception": false,
     "start_time": "2023-01-20T04:56:22.432385",
     "status": "completed"
    },
    "tags": []
   },
   "outputs": [
    {
     "data": {
      "text/plain": [
       "'probably  all-time favorite movie,  story  selflessness, sacrifice  dedication   noble cause,    preachy  boring.   never gets old, despite   seen   15   times'"
      ]
     },
     "execution_count": 30,
     "metadata": {},
     "output_type": "execute_result"
    }
   ],
   "source": [
    "remove_stopwords('probably my all-time favorite movie, a story of selflessness, sacrifice and dedication to a noble cause, but it\\'s not preachy or boring. it just never gets old, despite my having seen it some 15 or more times')"
   ]
  },
  {
   "cell_type": "code",
   "execution_count": 31,
   "id": "cf9373b4",
   "metadata": {
    "execution": {
     "iopub.execute_input": "2023-01-20T04:56:22.624152Z",
     "iopub.status.busy": "2023-01-20T04:56:22.623605Z",
     "iopub.status.idle": "2023-01-20T04:56:22.632318Z",
     "shell.execute_reply": "2023-01-20T04:56:22.631564Z"
    },
    "papermill": {
     "duration": 0.070706,
     "end_time": "2023-01-20T04:56:22.634183",
     "exception": false,
     "start_time": "2023-01-20T04:56:22.563477",
     "status": "completed"
    },
    "tags": []
   },
   "outputs": [
    {
     "data": {
      "text/html": [
       "<div>\n",
       "<style scoped>\n",
       "    .dataframe tbody tr th:only-of-type {\n",
       "        vertical-align: middle;\n",
       "    }\n",
       "\n",
       "    .dataframe tbody tr th {\n",
       "        vertical-align: top;\n",
       "    }\n",
       "\n",
       "    .dataframe thead th {\n",
       "        text-align: right;\n",
       "    }\n",
       "</style>\n",
       "<table border=\"1\" class=\"dataframe\">\n",
       "  <thead>\n",
       "    <tr style=\"text-align: right;\">\n",
       "      <th></th>\n",
       "      <th>review</th>\n",
       "      <th>sentiment</th>\n",
       "    </tr>\n",
       "  </thead>\n",
       "  <tbody>\n",
       "    <tr>\n",
       "      <th>0</th>\n",
       "      <td>one of the other reviewers has mentioned that ...</td>\n",
       "      <td>positive</td>\n",
       "    </tr>\n",
       "    <tr>\n",
       "      <th>1</th>\n",
       "      <td>a wonderful little production. the filming tec...</td>\n",
       "      <td>positive</td>\n",
       "    </tr>\n",
       "    <tr>\n",
       "      <th>2</th>\n",
       "      <td>i thought this was a wonderful way to spend ti...</td>\n",
       "      <td>positive</td>\n",
       "    </tr>\n",
       "    <tr>\n",
       "      <th>3</th>\n",
       "      <td>basically there's a family where a little boy ...</td>\n",
       "      <td>negative</td>\n",
       "    </tr>\n",
       "    <tr>\n",
       "      <th>4</th>\n",
       "      <td>petter mattei's \"love in the time of money\" is...</td>\n",
       "      <td>positive</td>\n",
       "    </tr>\n",
       "  </tbody>\n",
       "</table>\n",
       "</div>"
      ],
      "text/plain": [
       "                                              review sentiment\n",
       "0  one of the other reviewers has mentioned that ...  positive\n",
       "1  a wonderful little production. the filming tec...  positive\n",
       "2  i thought this was a wonderful way to spend ti...  positive\n",
       "3  basically there's a family where a little boy ...  negative\n",
       "4  petter mattei's \"love in the time of money\" is...  positive"
      ]
     },
     "execution_count": 31,
     "metadata": {},
     "output_type": "execute_result"
    }
   ],
   "source": [
    "df.head()"
   ]
  },
  {
   "cell_type": "code",
   "execution_count": null,
   "id": "fd304cf5",
   "metadata": {
    "execution": {
     "iopub.execute_input": "2023-01-17T06:31:40.060130Z",
     "iopub.status.busy": "2023-01-17T06:31:40.059815Z",
     "iopub.status.idle": "2023-01-17T06:31:40.063460Z",
     "shell.execute_reply": "2023-01-17T06:31:40.062477Z",
     "shell.execute_reply.started": "2023-01-17T06:31:40.060097Z"
    },
    "papermill": {
     "duration": 0.057951,
     "end_time": "2023-01-20T04:56:22.750103",
     "exception": false,
     "start_time": "2023-01-20T04:56:22.692152",
     "status": "completed"
    },
    "tags": []
   },
   "outputs": [],
   "source": []
  },
  {
   "cell_type": "code",
   "execution_count": 32,
   "id": "bb5474f9",
   "metadata": {
    "execution": {
     "iopub.execute_input": "2023-01-20T04:56:22.870672Z",
     "iopub.status.busy": "2023-01-20T04:56:22.870336Z",
     "iopub.status.idle": "2023-01-20T04:56:22.876008Z",
     "shell.execute_reply": "2023-01-20T04:56:22.874971Z"
    },
    "papermill": {
     "duration": 0.066995,
     "end_time": "2023-01-20T04:56:22.878015",
     "exception": false,
     "start_time": "2023-01-20T04:56:22.811020",
     "status": "completed"
    },
    "tags": []
   },
   "outputs": [],
   "source": [
    "#handling emojies\n",
    "# for removing emojies\n",
    "import re\n",
    "def remove_emoji(text):\n",
    "    emoji_pattern = re.compile(\"[\"\n",
    "                           u\"\\U0001F600-\\U0001F64F\"  # emoticons\n",
    "                           u\"\\U0001F300-\\U0001F5FF\"  # symbols & pictographs\n",
    "                           u\"\\U0001F680-\\U0001F6FF\"  # transport & map symbols\n",
    "                           u\"\\U0001F1E0-\\U0001F1FF\"  # flags (iOS)\n",
    "                           u\"\\U00002702-\\U000027B0\"\n",
    "                           u\"\\U000024C2-\\U0001F251\"\n",
    "                           \"]+\", flags=re.UNICODE)\n",
    "    return emoji_pattern.sub(r'', text)"
   ]
  },
  {
   "cell_type": "code",
   "execution_count": 33,
   "id": "5019ce8f",
   "metadata": {
    "execution": {
     "iopub.execute_input": "2023-01-20T04:56:22.999188Z",
     "iopub.status.busy": "2023-01-20T04:56:22.998405Z",
     "iopub.status.idle": "2023-01-20T04:56:23.007398Z",
     "shell.execute_reply": "2023-01-20T04:56:23.006622Z"
    },
    "papermill": {
     "duration": 0.073207,
     "end_time": "2023-01-20T04:56:23.009409",
     "exception": false,
     "start_time": "2023-01-20T04:56:22.936202",
     "status": "completed"
    },
    "tags": []
   },
   "outputs": [
    {
     "data": {
      "text/plain": [
       "'Loved the movie. It was '"
      ]
     },
     "execution_count": 33,
     "metadata": {},
     "output_type": "execute_result"
    }
   ],
   "source": [
    "remove_emoji(\"Loved the movie. It was 😘😘\")"
   ]
  },
  {
   "cell_type": "code",
   "execution_count": 34,
   "id": "759567dc",
   "metadata": {
    "execution": {
     "iopub.execute_input": "2023-01-20T04:56:23.130610Z",
     "iopub.status.busy": "2023-01-20T04:56:23.130273Z",
     "iopub.status.idle": "2023-01-20T04:56:23.181643Z",
     "shell.execute_reply": "2023-01-20T04:56:23.180282Z"
    },
    "papermill": {
     "duration": 0.115271,
     "end_time": "2023-01-20T04:56:23.185364",
     "exception": false,
     "start_time": "2023-01-20T04:56:23.070093",
     "status": "completed"
    },
    "tags": []
   },
   "outputs": [
    {
     "name": "stdout",
     "output_type": "stream",
     "text": [
      "Python is :fire:\n"
     ]
    }
   ],
   "source": [
    "# replaced emojies with meaning\n",
    "import emoji\n",
    "print(emoji.demojize('Python is 🔥'))"
   ]
  },
  {
   "cell_type": "code",
   "execution_count": 35,
   "id": "acfa62bd",
   "metadata": {
    "execution": {
     "iopub.execute_input": "2023-01-20T04:56:23.306295Z",
     "iopub.status.busy": "2023-01-20T04:56:23.305831Z",
     "iopub.status.idle": "2023-01-20T04:56:23.687597Z",
     "shell.execute_reply": "2023-01-20T04:56:23.686543Z"
    },
    "papermill": {
     "duration": 0.445254,
     "end_time": "2023-01-20T04:56:23.690432",
     "exception": false,
     "start_time": "2023-01-20T04:56:23.245178",
     "status": "completed"
    },
    "tags": []
   },
   "outputs": [
    {
     "name": "stdout",
     "output_type": "stream",
     "text": [
      "0.37608861923217773\n"
     ]
    }
   ],
   "source": [
    "start = time.time()\n",
    "emoji.demojize(df[\"review\"])\n",
    "end_time = time.time()- start\n",
    "print(end_time)"
   ]
  },
  {
   "cell_type": "code",
   "execution_count": 36,
   "id": "16af968a",
   "metadata": {
    "execution": {
     "iopub.execute_input": "2023-01-20T04:56:23.820129Z",
     "iopub.status.busy": "2023-01-20T04:56:23.819221Z",
     "iopub.status.idle": "2023-01-20T04:56:23.825904Z",
     "shell.execute_reply": "2023-01-20T04:56:23.824670Z"
    },
    "papermill": {
     "duration": 0.076174,
     "end_time": "2023-01-20T04:56:23.828601",
     "exception": false,
     "start_time": "2023-01-20T04:56:23.752427",
     "status": "completed"
    },
    "tags": []
   },
   "outputs": [],
   "source": [
    "#tokenization  - it is process of breaking sentence into words or breaking paragraph into sentences it depend upon use case"
   ]
  },
  {
   "cell_type": "markdown",
   "id": "53cff2bc",
   "metadata": {
    "papermill": {
     "duration": 0.061362,
     "end_time": "2023-01-20T04:56:23.970001",
     "exception": false,
     "start_time": "2023-01-20T04:56:23.908639",
     "status": "completed"
    },
    "tags": []
   },
   "source": [
    "**1. Using the split function**"
   ]
  },
  {
   "cell_type": "code",
   "execution_count": 37,
   "id": "a577ff0d",
   "metadata": {
    "execution": {
     "iopub.execute_input": "2023-01-20T04:56:24.093457Z",
     "iopub.status.busy": "2023-01-20T04:56:24.092774Z",
     "iopub.status.idle": "2023-01-20T04:56:24.099139Z",
     "shell.execute_reply": "2023-01-20T04:56:24.098303Z"
    },
    "papermill": {
     "duration": 0.069206,
     "end_time": "2023-01-20T04:56:24.101094",
     "exception": false,
     "start_time": "2023-01-20T04:56:24.031888",
     "status": "completed"
    },
    "tags": []
   },
   "outputs": [
    {
     "data": {
      "text/plain": [
       "['I', 'am', 'going', 'to', 'delhi']"
      ]
     },
     "execution_count": 37,
     "metadata": {},
     "output_type": "execute_result"
    }
   ],
   "source": [
    "# word tokenization\n",
    "sent1 = 'I am going to delhi'\n",
    "sent1.split()"
   ]
  },
  {
   "cell_type": "code",
   "execution_count": 38,
   "id": "6863180e",
   "metadata": {
    "execution": {
     "iopub.execute_input": "2023-01-20T04:56:24.222624Z",
     "iopub.status.busy": "2023-01-20T04:56:24.221992Z",
     "iopub.status.idle": "2023-01-20T04:56:24.228261Z",
     "shell.execute_reply": "2023-01-20T04:56:24.227545Z"
    },
    "papermill": {
     "duration": 0.069829,
     "end_time": "2023-01-20T04:56:24.230264",
     "exception": false,
     "start_time": "2023-01-20T04:56:24.160435",
     "status": "completed"
    },
    "tags": []
   },
   "outputs": [
    {
     "data": {
      "text/plain": [
       "['I am going to delhi',\n",
       " ' I will stay there for 3 days',\n",
       " \" Let's hope the trip to be great\"]"
      ]
     },
     "execution_count": 38,
     "metadata": {},
     "output_type": "execute_result"
    }
   ],
   "source": [
    "# sentence tokenization\n",
    "sent2 = 'I am going to delhi. I will stay there for 3 days. Let\\'s hope the trip to be great'\n",
    "sent2.split(\".\")"
   ]
  },
  {
   "cell_type": "code",
   "execution_count": 39,
   "id": "bddb86c8",
   "metadata": {
    "execution": {
     "iopub.execute_input": "2023-01-20T04:56:24.352048Z",
     "iopub.status.busy": "2023-01-20T04:56:24.351752Z",
     "iopub.status.idle": "2023-01-20T04:56:24.358413Z",
     "shell.execute_reply": "2023-01-20T04:56:24.357516Z"
    },
    "papermill": {
     "duration": 0.069611,
     "end_time": "2023-01-20T04:56:24.360608",
     "exception": false,
     "start_time": "2023-01-20T04:56:24.290997",
     "status": "completed"
    },
    "tags": []
   },
   "outputs": [
    {
     "data": {
      "text/plain": [
       "['I', 'am', 'going', 'to', 'delhi!']"
      ]
     },
     "execution_count": 39,
     "metadata": {},
     "output_type": "execute_result"
    }
   ],
   "source": [
    "# Problems with split function\n",
    "sent3 = 'I am going to delhi!'\n",
    "sent3.split()"
   ]
  },
  {
   "cell_type": "code",
   "execution_count": 40,
   "id": "43ac5754",
   "metadata": {
    "execution": {
     "iopub.execute_input": "2023-01-20T04:56:24.483246Z",
     "iopub.status.busy": "2023-01-20T04:56:24.482754Z",
     "iopub.status.idle": "2023-01-20T04:56:24.487590Z",
     "shell.execute_reply": "2023-01-20T04:56:24.486965Z"
    },
    "papermill": {
     "duration": 0.068657,
     "end_time": "2023-01-20T04:56:24.489527",
     "exception": false,
     "start_time": "2023-01-20T04:56:24.420870",
     "status": "completed"
    },
    "tags": []
   },
   "outputs": [
    {
     "data": {
      "text/plain": [
       "['Where do think I should go? I have 3 day holiday']"
      ]
     },
     "execution_count": 40,
     "metadata": {},
     "output_type": "execute_result"
    }
   ],
   "source": [
    "sent4 = 'Where do think I should go? I have 3 day holiday'\n",
    "sent4.split('.')"
   ]
  },
  {
   "cell_type": "markdown",
   "id": "124376b4",
   "metadata": {
    "papermill": {
     "duration": 0.061786,
     "end_time": "2023-01-20T04:56:24.613200",
     "exception": false,
     "start_time": "2023-01-20T04:56:24.551414",
     "status": "completed"
    },
    "tags": []
   },
   "source": [
    "**2. Regular Expression**"
   ]
  },
  {
   "cell_type": "code",
   "execution_count": 41,
   "id": "315c68d0",
   "metadata": {
    "execution": {
     "iopub.execute_input": "2023-01-20T04:56:24.738494Z",
     "iopub.status.busy": "2023-01-20T04:56:24.737905Z",
     "iopub.status.idle": "2023-01-20T04:56:24.743464Z",
     "shell.execute_reply": "2023-01-20T04:56:24.742905Z"
    },
    "papermill": {
     "duration": 0.070645,
     "end_time": "2023-01-20T04:56:24.745345",
     "exception": false,
     "start_time": "2023-01-20T04:56:24.674700",
     "status": "completed"
    },
    "tags": []
   },
   "outputs": [
    {
     "data": {
      "text/plain": [
       "['I', 'am', 'going', 'to', 'delhi']"
      ]
     },
     "execution_count": 41,
     "metadata": {},
     "output_type": "execute_result"
    }
   ],
   "source": [
    "import re\n",
    "sent3 = 'I am going to delhi!'\n",
    "tokens = re.findall(\"[\\w']+\", sent3)\n",
    "tokens"
   ]
  },
  {
   "cell_type": "code",
   "execution_count": 42,
   "id": "b9f34103",
   "metadata": {
    "execution": {
     "iopub.execute_input": "2023-01-20T04:56:24.870385Z",
     "iopub.status.busy": "2023-01-20T04:56:24.869810Z",
     "iopub.status.idle": "2023-01-20T04:56:24.875970Z",
     "shell.execute_reply": "2023-01-20T04:56:24.875326Z"
    },
    "papermill": {
     "duration": 0.07104,
     "end_time": "2023-01-20T04:56:24.877913",
     "exception": false,
     "start_time": "2023-01-20T04:56:24.806873",
     "status": "completed"
    },
    "tags": []
   },
   "outputs": [
    {
     "data": {
      "text/plain": [
       "['Lorem Ipsum is simply dummy text of the printing and typesetting industry',\n",
       " \"\\nLorem Ipsum has been the industry's standard dummy text ever since the 1500s, \\nwhen an unknown printer took a galley of type and scrambled it to make a type specimen book.\"]"
      ]
     },
     "execution_count": 42,
     "metadata": {},
     "output_type": "execute_result"
    }
   ],
   "source": [
    "text = \"\"\"Lorem Ipsum is simply dummy text of the printing and typesetting industry? \n",
    "Lorem Ipsum has been the industry's standard dummy text ever since the 1500s, \n",
    "when an unknown printer took a galley of type and scrambled it to make a type specimen book.\"\"\"\n",
    "sentences = re.compile('[.!?] ').split(text)\n",
    "sentences"
   ]
  },
  {
   "cell_type": "markdown",
   "id": "3b90e663",
   "metadata": {
    "papermill": {
     "duration": 0.063007,
     "end_time": "2023-01-20T04:56:25.003198",
     "exception": false,
     "start_time": "2023-01-20T04:56:24.940191",
     "status": "completed"
    },
    "tags": []
   },
   "source": [
    "**3. NLTK**"
   ]
  },
  {
   "cell_type": "code",
   "execution_count": 43,
   "id": "292393f1",
   "metadata": {
    "execution": {
     "iopub.execute_input": "2023-01-20T04:56:25.131222Z",
     "iopub.status.busy": "2023-01-20T04:56:25.130690Z",
     "iopub.status.idle": "2023-01-20T04:56:25.134291Z",
     "shell.execute_reply": "2023-01-20T04:56:25.133638Z"
    },
    "papermill": {
     "duration": 0.069779,
     "end_time": "2023-01-20T04:56:25.136246",
     "exception": false,
     "start_time": "2023-01-20T04:56:25.066467",
     "status": "completed"
    },
    "tags": []
   },
   "outputs": [],
   "source": [
    "from nltk.tokenize import word_tokenize, sent_tokenize"
   ]
  },
  {
   "cell_type": "code",
   "execution_count": 44,
   "id": "5369bfdd",
   "metadata": {
    "execution": {
     "iopub.execute_input": "2023-01-20T04:56:25.265646Z",
     "iopub.status.busy": "2023-01-20T04:56:25.265305Z",
     "iopub.status.idle": "2023-01-20T04:56:25.283514Z",
     "shell.execute_reply": "2023-01-20T04:56:25.282654Z"
    },
    "papermill": {
     "duration": 0.084846,
     "end_time": "2023-01-20T04:56:25.285646",
     "exception": false,
     "start_time": "2023-01-20T04:56:25.200800",
     "status": "completed"
    },
    "tags": []
   },
   "outputs": [
    {
     "data": {
      "text/plain": [
       "['I', 'am', 'going', 'to', 'visit', 'delhi', '!']"
      ]
     },
     "execution_count": 44,
     "metadata": {},
     "output_type": "execute_result"
    }
   ],
   "source": [
    "sent1 = 'I am going to visit delhi!'\n",
    "word_tokenize(sent1)"
   ]
  },
  {
   "cell_type": "code",
   "execution_count": 45,
   "id": "9466b32d",
   "metadata": {
    "execution": {
     "iopub.execute_input": "2023-01-20T04:56:25.412630Z",
     "iopub.status.busy": "2023-01-20T04:56:25.411721Z",
     "iopub.status.idle": "2023-01-20T04:56:25.418856Z",
     "shell.execute_reply": "2023-01-20T04:56:25.418122Z"
    },
    "papermill": {
     "duration": 0.073444,
     "end_time": "2023-01-20T04:56:25.420815",
     "exception": false,
     "start_time": "2023-01-20T04:56:25.347371",
     "status": "completed"
    },
    "tags": []
   },
   "outputs": [
    {
     "data": {
      "text/plain": [
       "['Lorem Ipsum is simply dummy text of the printing and typesetting industry?',\n",
       " \"Lorem Ipsum has been the industry's standard dummy text ever since the 1500s, \\nwhen an unknown printer took a galley of type and scrambled it to make a type specimen book.\"]"
      ]
     },
     "execution_count": 45,
     "metadata": {},
     "output_type": "execute_result"
    }
   ],
   "source": [
    "text = \"\"\"Lorem Ipsum is simply dummy text of the printing and typesetting industry? \n",
    "Lorem Ipsum has been the industry's standard dummy text ever since the 1500s, \n",
    "when an unknown printer took a galley of type and scrambled it to make a type specimen book.\"\"\"\n",
    "\n",
    "sent_tokenize(text)\n"
   ]
  },
  {
   "cell_type": "code",
   "execution_count": 46,
   "id": "c961eff7",
   "metadata": {
    "execution": {
     "iopub.execute_input": "2023-01-20T04:56:25.547302Z",
     "iopub.status.busy": "2023-01-20T04:56:25.546706Z",
     "iopub.status.idle": "2023-01-20T04:56:25.553460Z",
     "shell.execute_reply": "2023-01-20T04:56:25.552529Z"
    },
    "papermill": {
     "duration": 0.072186,
     "end_time": "2023-01-20T04:56:25.555558",
     "exception": false,
     "start_time": "2023-01-20T04:56:25.483372",
     "status": "completed"
    },
    "tags": []
   },
   "outputs": [
    {
     "data": {
      "text/plain": [
       "['I', 'have', 'a', 'Ph.D', 'in', 'A.I']"
      ]
     },
     "execution_count": 46,
     "metadata": {},
     "output_type": "execute_result"
    }
   ],
   "source": [
    "sent5 = 'I have a Ph.D in A.I'\n",
    "sent6 = \"We're here to help! mail us at nks@gmail.com\"\n",
    "sent7 = 'A 5km ride cost $10.50'\n",
    "\n",
    "word_tokenize(sent5)"
   ]
  },
  {
   "cell_type": "code",
   "execution_count": 47,
   "id": "d65dc5d7",
   "metadata": {
    "execution": {
     "iopub.execute_input": "2023-01-20T04:56:25.682794Z",
     "iopub.status.busy": "2023-01-20T04:56:25.682182Z",
     "iopub.status.idle": "2023-01-20T04:56:25.688527Z",
     "shell.execute_reply": "2023-01-20T04:56:25.687677Z"
    },
    "papermill": {
     "duration": 0.072286,
     "end_time": "2023-01-20T04:56:25.690521",
     "exception": false,
     "start_time": "2023-01-20T04:56:25.618235",
     "status": "completed"
    },
    "tags": []
   },
   "outputs": [
    {
     "data": {
      "text/plain": [
       "['A', '5km', 'ride', 'cost', '$', '10.50']"
      ]
     },
     "execution_count": 47,
     "metadata": {},
     "output_type": "execute_result"
    }
   ],
   "source": [
    "word_tokenize(sent7)"
   ]
  },
  {
   "cell_type": "markdown",
   "id": "98c3eabf",
   "metadata": {
    "papermill": {
     "duration": 0.062533,
     "end_time": "2023-01-20T04:56:25.815910",
     "exception": false,
     "start_time": "2023-01-20T04:56:25.753377",
     "status": "completed"
    },
    "tags": []
   },
   "source": [
    "**4. Spacy**"
   ]
  },
  {
   "cell_type": "code",
   "execution_count": 48,
   "id": "e93354a7",
   "metadata": {
    "execution": {
     "iopub.execute_input": "2023-01-20T04:56:25.943691Z",
     "iopub.status.busy": "2023-01-20T04:56:25.943361Z",
     "iopub.status.idle": "2023-01-20T04:56:37.324215Z",
     "shell.execute_reply": "2023-01-20T04:56:37.322886Z"
    },
    "papermill": {
     "duration": 11.448408,
     "end_time": "2023-01-20T04:56:37.327186",
     "exception": false,
     "start_time": "2023-01-20T04:56:25.878778",
     "status": "completed"
    },
    "tags": []
   },
   "outputs": [],
   "source": [
    "import spacy #it perform better\n",
    "nlp = spacy.load('en_core_web_sm')"
   ]
  },
  {
   "cell_type": "code",
   "execution_count": 49,
   "id": "34cf4486",
   "metadata": {
    "execution": {
     "iopub.execute_input": "2023-01-20T04:56:37.458063Z",
     "iopub.status.busy": "2023-01-20T04:56:37.457727Z",
     "iopub.status.idle": "2023-01-20T04:56:37.505926Z",
     "shell.execute_reply": "2023-01-20T04:56:37.504927Z"
    },
    "papermill": {
     "duration": 0.116719,
     "end_time": "2023-01-20T04:56:37.508677",
     "exception": false,
     "start_time": "2023-01-20T04:56:37.391958",
     "status": "completed"
    },
    "tags": []
   },
   "outputs": [],
   "source": [
    "doc1 = nlp(sent5)\n",
    "doc2 = nlp(sent6)\n",
    "doc3 = nlp(sent7)\n",
    "doc4 = nlp(sent1)"
   ]
  },
  {
   "cell_type": "code",
   "execution_count": 50,
   "id": "95514b2c",
   "metadata": {
    "execution": {
     "iopub.execute_input": "2023-01-20T04:56:37.638942Z",
     "iopub.status.busy": "2023-01-20T04:56:37.638416Z",
     "iopub.status.idle": "2023-01-20T04:56:37.644412Z",
     "shell.execute_reply": "2023-01-20T04:56:37.643356Z"
    },
    "papermill": {
     "duration": 0.073772,
     "end_time": "2023-01-20T04:56:37.646568",
     "exception": false,
     "start_time": "2023-01-20T04:56:37.572796",
     "status": "completed"
    },
    "tags": []
   },
   "outputs": [
    {
     "name": "stdout",
     "output_type": "stream",
     "text": [
      "I\n",
      "am\n",
      "going\n",
      "to\n",
      "visit\n",
      "delhi\n",
      "!\n"
     ]
    }
   ],
   "source": [
    "for token in doc4:\n",
    "    print(token)"
   ]
  },
  {
   "cell_type": "code",
   "execution_count": null,
   "id": "a409b975",
   "metadata": {
    "papermill": {
     "duration": 0.062389,
     "end_time": "2023-01-20T04:56:37.772379",
     "exception": false,
     "start_time": "2023-01-20T04:56:37.709990",
     "status": "completed"
    },
    "tags": []
   },
   "outputs": [],
   "source": []
  }
 ],
 "metadata": {
  "kernelspec": {
   "display_name": "Python 3",
   "language": "python",
   "name": "python3"
  },
  "language_info": {
   "codemirror_mode": {
    "name": "ipython",
    "version": 3
   },
   "file_extension": ".py",
   "mimetype": "text/x-python",
   "name": "python",
   "nbconvert_exporter": "python",
   "pygments_lexer": "ipython3",
   "version": "3.7.12"
  },
  "papermill": {
   "default_parameters": {},
   "duration": 36.821537,
   "end_time": "2023-01-20T04:56:41.038923",
   "environment_variables": {},
   "exception": null,
   "input_path": "__notebook__.ipynb",
   "output_path": "__notebook__.ipynb",
   "parameters": {},
   "start_time": "2023-01-20T04:56:04.217386",
   "version": "2.3.4"
  }
 },
 "nbformat": 4,
 "nbformat_minor": 5
}
